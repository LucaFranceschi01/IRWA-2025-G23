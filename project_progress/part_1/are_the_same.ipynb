{
 "cells": [
  {
   "cell_type": "code",
   "execution_count": 4,
   "id": "f05b3c7c",
   "metadata": {},
   "outputs": [
    {
     "name": "stdout",
     "output_type": "stream",
     "text": [
      "Notebook shape: (28080, 38)\n",
      "Script shape: (28080, 38)\n",
      "\n",
      "Columns match: True\n",
      "Data matches: True\n"
     ]
    }
   ],
   "source": [
    "import pandas as pd\n",
    "\n",
    "# Load both CSVs\n",
    "notebook_csv = pd.read_csv('../../data/fashion_products_cleaned.csv')  # From notebook\n",
    "script_csv = pd.read_csv('../../data/fashion_products_cleaned_script.csv')  # From script\n",
    "\n",
    "# Compare\n",
    "print(f\"Notebook shape: {notebook_csv.shape}\")\n",
    "print(f\"Script shape: {script_csv.shape}\")\n",
    "print(f\"\\nColumns match: {list(notebook_csv.columns) == list(script_csv.columns)}\")\n",
    "print(f\"Data matches: {notebook_csv.equals(script_csv)}\")"
   ]
  }
 ],
 "metadata": {
  "kernelspec": {
   "display_name": "Python 3",
   "language": "python",
   "name": "python3"
  },
  "language_info": {
   "codemirror_mode": {
    "name": "ipython",
    "version": 3
   },
   "file_extension": ".py",
   "mimetype": "text/x-python",
   "name": "python",
   "nbconvert_exporter": "python",
   "pygments_lexer": "ipython3",
   "version": "3.12.2"
  }
 },
 "nbformat": 4,
 "nbformat_minor": 5
}
