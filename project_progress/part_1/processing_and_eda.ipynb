{
 "cells": [
  {
   "cell_type": "markdown",
   "id": "84fe4d8d",
   "metadata": {},
   "source": [
    "# Part 1: Text Processing and Exploratory Data Analysis"
   ]
  },
  {
   "cell_type": "markdown",
   "id": "7e0b198f",
   "metadata": {},
   "source": [
    "## 1. Data preparation"
   ]
  },
  {
   "cell_type": "code",
   "execution_count": 111,
   "id": "177871bf",
   "metadata": {},
   "outputs": [
    {
     "name": "stdout",
     "output_type": "stream",
     "text": [
      "Requirement already satisfied: nltk in c:\\users\\pdpau\\appdata\\local\\programs\\python\\python312\\lib\\site-packages (3.9.1)\n",
      "Requirement already satisfied: click in c:\\users\\pdpau\\appdata\\local\\programs\\python\\python312\\lib\\site-packages (from nltk) (8.2.1)\n",
      "Requirement already satisfied: joblib in c:\\users\\pdpau\\appdata\\local\\programs\\python\\python312\\lib\\site-packages (from nltk) (1.4.2)\n",
      "Requirement already satisfied: regex>=2021.8.3 in c:\\users\\pdpau\\appdata\\local\\programs\\python\\python312\\lib\\site-packages (from nltk) (2024.11.6)\n",
      "Requirement already satisfied: tqdm in c:\\users\\pdpau\\appdata\\local\\programs\\python\\python312\\lib\\site-packages (from nltk) (4.66.4)\n",
      "Requirement already satisfied: colorama in c:\\users\\pdpau\\appdata\\roaming\\python\\python312\\site-packages (from click->nltk) (0.4.6)\n",
      "Note: you may need to restart the kernel to use updated packages.\n"
     ]
    },
    {
     "name": "stderr",
     "output_type": "stream",
     "text": [
      "\n",
      "[notice] A new release of pip is available: 25.1.1 -> 25.2\n",
      "[notice] To update, run: python.exe -m pip install --upgrade pip\n"
     ]
    }
   ],
   "source": [
    "%pip install nltk"
   ]
  },
  {
   "cell_type": "code",
   "execution_count": 112,
   "id": "dcb905e6",
   "metadata": {},
   "outputs": [
    {
     "name": "stderr",
     "output_type": "stream",
     "text": [
      "[nltk_data] Downloading package punkt to\n",
      "[nltk_data]     C:\\Users\\pdpau\\AppData\\Roaming\\nltk_data...\n",
      "[nltk_data]   Package punkt is already up-to-date!\n",
      "[nltk_data] Downloading package stopwords to\n",
      "[nltk_data]     C:\\Users\\pdpau\\AppData\\Roaming\\nltk_data...\n",
      "[nltk_data]   Package stopwords is already up-to-date!\n",
      "[nltk_data] Downloading package punkt_tab to\n",
      "[nltk_data]     C:\\Users\\pdpau\\AppData\\Roaming\\nltk_data...\n",
      "[nltk_data]   Package punkt_tab is already up-to-date!\n"
     ]
    },
    {
     "data": {
      "text/plain": [
       "True"
      ]
     },
     "execution_count": 112,
     "metadata": {},
     "output_type": "execute_result"
    }
   ],
   "source": [
    "import os, string\n",
    "import numpy as np\n",
    "import pandas as pd\n",
    "import seaborn as sns\n",
    "import matplotlib.pyplot as plt\n",
    "\n",
    "from unidecode import unidecode\n",
    "import nltk\n",
    "from nltk.corpus import stopwords\n",
    "from nltk.stem import PorterStemmer\n",
    "from nltk.tokenize import word_tokenize\n",
    "\n",
    "nltk.download('punkt')\n",
    "nltk.download('stopwords')\n",
    "nltk.download('punkt_tab')"
   ]
  },
  {
   "cell_type": "code",
   "execution_count": 113,
   "id": "3a419a15",
   "metadata": {},
   "outputs": [
    {
     "data": {
      "application/vnd.microsoft.datawrangler.viewer.v0+json": {
       "columns": [
        {
         "name": "index",
         "rawType": "int64",
         "type": "integer"
        },
        {
         "name": "_id",
         "rawType": "object",
         "type": "string"
        },
        {
         "name": "actual_price",
         "rawType": "object",
         "type": "string"
        },
        {
         "name": "average_rating",
         "rawType": "object",
         "type": "string"
        },
        {
         "name": "brand",
         "rawType": "object",
         "type": "string"
        },
        {
         "name": "category",
         "rawType": "object",
         "type": "string"
        },
        {
         "name": "crawled_at",
         "rawType": "datetime64[ns]",
         "type": "datetime"
        },
        {
         "name": "description",
         "rawType": "object",
         "type": "string"
        },
        {
         "name": "discount",
         "rawType": "object",
         "type": "string"
        },
        {
         "name": "images",
         "rawType": "object",
         "type": "unknown"
        },
        {
         "name": "out_of_stock",
         "rawType": "bool",
         "type": "boolean"
        },
        {
         "name": "pid",
         "rawType": "object",
         "type": "string"
        },
        {
         "name": "product_details",
         "rawType": "object",
         "type": "unknown"
        },
        {
         "name": "seller",
         "rawType": "object",
         "type": "string"
        },
        {
         "name": "selling_price",
         "rawType": "object",
         "type": "string"
        },
        {
         "name": "sub_category",
         "rawType": "object",
         "type": "string"
        },
        {
         "name": "title",
         "rawType": "object",
         "type": "string"
        },
        {
         "name": "url",
         "rawType": "object",
         "type": "string"
        }
       ],
       "ref": "da316def-3943-4431-bb19-b8d5be378f65",
       "rows": [
        [
         "0",
         "fa8e22d6-c0b6-5229-bb9e-ad52eda39a0a",
         "2,999",
         "3.9",
         "York",
         "Clothing and Accessories",
         "2021-02-10 20:11:51",
         "Yorker trackpants made from 100% rich combed cotton giving it a rich look.Designed for Comfort,Skin friendly fabric,itch-free waistband & great for all year round use Proudly made in India",
         "69% off",
         "['https://rukminim1.flixcart.com/image/128/128/jr3t5e80/track-pant/z/y/n/m-1005combo2-yorker-original-imafczg3xfh5qqd4.jpeg?q=70', 'https://rukminim1.flixcart.com/image/128/128/jr58l8w0/track-pant/w/d/a/l-1005combo8-yorker-original-imafczg3pgtxgraq.jpeg?q=70']",
         "False",
         "TKPFCZ9EA7H5FYZH",
         "[{'Style Code': '1005COMBO2'}, {'Closure': 'Elastic'}, {'Pockets': 'Side Pockets'}, {'Fabric': 'Cotton Blend'}, {'Pattern': 'Solid'}, {'Color': 'Multicolor'}]",
         "Shyam Enterprises",
         "921",
         "Bottomwear",
         "Solid Women Multicolor Track Pants",
         "https://www.flipkart.com/yorker-solid-men-multicolor-track-pants/p/itmd2c76aadce459?pid=TKPFCZ9EA7H5FYZH&lid=LSTTKPFCZ9EA7H5FYZHVYXWP0&marketplace=FLIPKART&srno=b_1_1&otracker=browse&fm=organic&iid=177a46eb-d053-4732-b3de-fcad6ff59cbd.TKPFCZ9EA7H5FYZH.SEARCH&ssid=utkd4t3gb40000001612415717799"
        ],
        [
         "1",
         "893e6980-f2a0-531f-b056-34dd63fe912c",
         "1,499",
         "3.9",
         "York",
         "Clothing and Accessories",
         "2021-02-10 20:11:52",
         "Yorker trackpants made from 100% rich combed cotton giving it a rich look.Designed for Comfort,Skin friendly fabric,itch-free waistband & great for all year round use Proudly made in India",
         "66% off",
         "['https://rukminim1.flixcart.com/image/128/128/kfyasnk0/track-pant/g/5/y/s-19876-yorker-original-imafwamyzrwjynkf.jpeg?q=70', 'https://rukminim1.flixcart.com/image/128/128/kfyasnk0/track-pant/g/5/y/s-19876-yorker-original-imafwamynyeuu5zq.jpeg?q=70']",
         "False",
         "TKPFCZ9EJZV2UVRZ",
         "[{'Style Code': '1005BLUE'}, {'Closure': 'Drawstring, Elastic'}, {'Pockets': 'Side Pockets'}, {'Fabric': 'Cotton Blend'}, {'Pattern': 'Solid'}, {'Color': 'Blue'}]",
         "Shyam Enterprises",
         "499",
         "Bottomwear",
         "Solid Men Blue Track Pants",
         "https://www.flipkart.com/yorker-solid-men-blue-track-pants/p/itmfczez7v6rzwer?pid=TKPFCZ9EJZV2UVRZ&lid=LSTTKPFCZ9EJZV2UVRZ9HEITU&marketplace=FLIPKART&srno=b_1_2&otracker=browse&fm=organic&iid=177a46eb-d053-4732-b3de-fcad6ff59cbd.TKPFCZ9EJZV2UVRZ.SEARCH&ssid=utkd4t3gb40000001612415717799"
        ],
        [
         "2",
         "eb4c8eab-8206-59d0-bcd1-a724d96bf74f",
         "2,999",
         "3.9",
         "York",
         "Clothing and Accessories",
         "2021-02-10 20:11:52",
         "Yorker trackpants made from 100% rich combed cotton giving it a rich look.Designed for Comfort,Skin friendly fabric,itch-free waistband & great for all year round use Proudly made in India",
         "68% off",
         "['https://rukminim1.flixcart.com/image/128/128/jr3t5e80/track-pant/e/c/s/xl-1005combo4-yorker-original-imafczgcc8t8uppk.jpeg?q=70', 'https://rukminim1.flixcart.com/image/128/128/jr58l8w0/track-pant/f/s/v/m-1005combo9-yorker-original-imafczez7buydy6r.jpeg?q=70']",
         "False",
         "TKPFCZ9EHFCY5Z4Y",
         "[{'Style Code': '1005COMBO4'}, {'Closure': 'Elastic'}, {'Pockets': 'Side Pockets'}, {'Fabric': 'Cotton Blend'}, {'Pattern': 'Solid'}, {'Color': 'Multicolor'}]",
         "Shyam Enterprises",
         "931",
         "Bottomwear",
         "Solid Men Multicolor Track Pants",
         "https://www.flipkart.com/yorker-solid-men-multicolor-track-pants/p/itm1eee3ca648155?pid=TKPFCZ9EHFCY5Z4Y&lid=LSTTKPFCZ9EHFCY5Z4YDOVNQS&marketplace=FLIPKART&srno=b_1_3&otracker=browse&fm=organic&iid=177a46eb-d053-4732-b3de-fcad6ff59cbd.TKPFCZ9EHFCY5Z4Y.SEARCH&ssid=utkd4t3gb40000001612415717799"
        ],
        [
         "3",
         "3f3f97bb-5faf-57df-a9ff-1af24e2b1045",
         "2,999",
         "3.9",
         "York",
         "Clothing and Accessories",
         "2021-02-10 20:11:53",
         "Yorker trackpants made from 100% rich combed cotton giving it a rich look.Designed for Comfort,Skin friendly fabric,itch-free waistband & great for all year round use Proudly made in India",
         "69% off",
         "['https://rukminim1.flixcart.com/image/128/128/jr3t5e80/track-pant/w/e/f/xl-1005combo3-yorker-original-imafczezgq8ntn7c.jpeg?q=70', 'https://rukminim1.flixcart.com/image/128/128/jr3t5e80/track-pant/8/n/h/xxl-1005dskin-yorker-original-imafczezeauspu2a.jpeg?q=70']",
         "False",
         "TKPFCZ9ESZZ7YWEF",
         "[{'Style Code': '1005COMBO3'}, {'Closure': 'Elastic'}, {'Pockets': 'Side Pockets'}, {'Fabric': 'Cotton Blend'}, {'Pattern': 'Solid'}, {'Color': 'Multicolor'}]",
         "Shyam Enterprises",
         "911",
         "Bottomwear",
         "Solid Women Multicolor Track Pants",
         "https://www.flipkart.com/yorker-solid-men-multicolor-track-pants/p/itma2f9bfe7dafb7?pid=TKPFCZ9ESZZ7YWEF&lid=LSTTKPFCZ9ESZZ7YWEFAZ1PUK&marketplace=FLIPKART&srno=b_1_4&otracker=browse&fm=organic&iid=177a46eb-d053-4732-b3de-fcad6ff59cbd.TKPFCZ9ESZZ7YWEF.SEARCH&ssid=utkd4t3gb40000001612415717799"
        ],
        [
         "4",
         "750caa3d-6264-53ca-8ce1-94118a1d8951",
         "2,999",
         "3.9",
         "York",
         "Clothing and Accessories",
         "2021-02-10 20:11:53",
         "Yorker trackpants made from 100% rich combed cotton giving it a rich look.Designed for Comfort,Skin friendly fabric,itch-free waistband & great for all year round use Proudly made in India",
         "68% off",
         "['https://rukminim1.flixcart.com/image/128/128/jr3t5e80/track-pant/d/w/b/l-1005combo1-yorker-original-imafczg3zcuajpgb.jpeg?q=70', 'https://rukminim1.flixcart.com/image/128/128/jr58l8w0/track-pant/d/w/b/l-1005combo1-yorker-original-imafczg3yyz6zgab.jpeg?q=70']",
         "False",
         "TKPFCZ9EVXKBSUD7",
         "[{'Style Code': '1005COMBO1'}, {'Closure': 'Drawstring, Elastic'}, {'Pockets': 'Side Pockets'}, {'Fabric': 'Cotton Blend'}, {'Pattern': 'Solid'}, {'Color': 'Brown, Grey'}]",
         "Shyam Enterprises",
         "943",
         "Bottomwear",
         "Solid Women Brown, Grey Track Pants",
         "https://www.flipkart.com/yorker-solid-men-brown-grey-track-pants/p/itm1a8387617b373?pid=TKPFCZ9EVXKBSUD7&lid=LSTTKPFCZ9EVXKBSUD7O1SCSG&marketplace=FLIPKART&srno=b_1_5&otracker=browse&fm=organic&iid=177a46eb-d053-4732-b3de-fcad6ff59cbd.TKPFCZ9EVXKBSUD7.SEARCH&ssid=utkd4t3gb40000001612415717799"
        ]
       ],
       "shape": {
        "columns": 17,
        "rows": 5
       }
      },
      "text/html": [
       "<div>\n",
       "<style scoped>\n",
       "    .dataframe tbody tr th:only-of-type {\n",
       "        vertical-align: middle;\n",
       "    }\n",
       "\n",
       "    .dataframe tbody tr th {\n",
       "        vertical-align: top;\n",
       "    }\n",
       "\n",
       "    .dataframe thead th {\n",
       "        text-align: right;\n",
       "    }\n",
       "</style>\n",
       "<table border=\"1\" class=\"dataframe\">\n",
       "  <thead>\n",
       "    <tr style=\"text-align: right;\">\n",
       "      <th></th>\n",
       "      <th>_id</th>\n",
       "      <th>actual_price</th>\n",
       "      <th>average_rating</th>\n",
       "      <th>brand</th>\n",
       "      <th>category</th>\n",
       "      <th>crawled_at</th>\n",
       "      <th>description</th>\n",
       "      <th>discount</th>\n",
       "      <th>images</th>\n",
       "      <th>out_of_stock</th>\n",
       "      <th>pid</th>\n",
       "      <th>product_details</th>\n",
       "      <th>seller</th>\n",
       "      <th>selling_price</th>\n",
       "      <th>sub_category</th>\n",
       "      <th>title</th>\n",
       "      <th>url</th>\n",
       "    </tr>\n",
       "  </thead>\n",
       "  <tbody>\n",
       "    <tr>\n",
       "      <th>0</th>\n",
       "      <td>fa8e22d6-c0b6-5229-bb9e-ad52eda39a0a</td>\n",
       "      <td>2,999</td>\n",
       "      <td>3.9</td>\n",
       "      <td>York</td>\n",
       "      <td>Clothing and Accessories</td>\n",
       "      <td>2021-02-10 20:11:51</td>\n",
       "      <td>Yorker trackpants made from 100% rich combed c...</td>\n",
       "      <td>69% off</td>\n",
       "      <td>[https://rukminim1.flixcart.com/image/128/128/...</td>\n",
       "      <td>False</td>\n",
       "      <td>TKPFCZ9EA7H5FYZH</td>\n",
       "      <td>[{'Style Code': '1005COMBO2'}, {'Closure': 'El...</td>\n",
       "      <td>Shyam Enterprises</td>\n",
       "      <td>921</td>\n",
       "      <td>Bottomwear</td>\n",
       "      <td>Solid Women Multicolor Track Pants</td>\n",
       "      <td>https://www.flipkart.com/yorker-solid-men-mult...</td>\n",
       "    </tr>\n",
       "    <tr>\n",
       "      <th>1</th>\n",
       "      <td>893e6980-f2a0-531f-b056-34dd63fe912c</td>\n",
       "      <td>1,499</td>\n",
       "      <td>3.9</td>\n",
       "      <td>York</td>\n",
       "      <td>Clothing and Accessories</td>\n",
       "      <td>2021-02-10 20:11:52</td>\n",
       "      <td>Yorker trackpants made from 100% rich combed c...</td>\n",
       "      <td>66% off</td>\n",
       "      <td>[https://rukminim1.flixcart.com/image/128/128/...</td>\n",
       "      <td>False</td>\n",
       "      <td>TKPFCZ9EJZV2UVRZ</td>\n",
       "      <td>[{'Style Code': '1005BLUE'}, {'Closure': 'Draw...</td>\n",
       "      <td>Shyam Enterprises</td>\n",
       "      <td>499</td>\n",
       "      <td>Bottomwear</td>\n",
       "      <td>Solid Men Blue Track Pants</td>\n",
       "      <td>https://www.flipkart.com/yorker-solid-men-blue...</td>\n",
       "    </tr>\n",
       "    <tr>\n",
       "      <th>2</th>\n",
       "      <td>eb4c8eab-8206-59d0-bcd1-a724d96bf74f</td>\n",
       "      <td>2,999</td>\n",
       "      <td>3.9</td>\n",
       "      <td>York</td>\n",
       "      <td>Clothing and Accessories</td>\n",
       "      <td>2021-02-10 20:11:52</td>\n",
       "      <td>Yorker trackpants made from 100% rich combed c...</td>\n",
       "      <td>68% off</td>\n",
       "      <td>[https://rukminim1.flixcart.com/image/128/128/...</td>\n",
       "      <td>False</td>\n",
       "      <td>TKPFCZ9EHFCY5Z4Y</td>\n",
       "      <td>[{'Style Code': '1005COMBO4'}, {'Closure': 'El...</td>\n",
       "      <td>Shyam Enterprises</td>\n",
       "      <td>931</td>\n",
       "      <td>Bottomwear</td>\n",
       "      <td>Solid Men Multicolor Track Pants</td>\n",
       "      <td>https://www.flipkart.com/yorker-solid-men-mult...</td>\n",
       "    </tr>\n",
       "    <tr>\n",
       "      <th>3</th>\n",
       "      <td>3f3f97bb-5faf-57df-a9ff-1af24e2b1045</td>\n",
       "      <td>2,999</td>\n",
       "      <td>3.9</td>\n",
       "      <td>York</td>\n",
       "      <td>Clothing and Accessories</td>\n",
       "      <td>2021-02-10 20:11:53</td>\n",
       "      <td>Yorker trackpants made from 100% rich combed c...</td>\n",
       "      <td>69% off</td>\n",
       "      <td>[https://rukminim1.flixcart.com/image/128/128/...</td>\n",
       "      <td>False</td>\n",
       "      <td>TKPFCZ9ESZZ7YWEF</td>\n",
       "      <td>[{'Style Code': '1005COMBO3'}, {'Closure': 'El...</td>\n",
       "      <td>Shyam Enterprises</td>\n",
       "      <td>911</td>\n",
       "      <td>Bottomwear</td>\n",
       "      <td>Solid Women Multicolor Track Pants</td>\n",
       "      <td>https://www.flipkart.com/yorker-solid-men-mult...</td>\n",
       "    </tr>\n",
       "    <tr>\n",
       "      <th>4</th>\n",
       "      <td>750caa3d-6264-53ca-8ce1-94118a1d8951</td>\n",
       "      <td>2,999</td>\n",
       "      <td>3.9</td>\n",
       "      <td>York</td>\n",
       "      <td>Clothing and Accessories</td>\n",
       "      <td>2021-02-10 20:11:53</td>\n",
       "      <td>Yorker trackpants made from 100% rich combed c...</td>\n",
       "      <td>68% off</td>\n",
       "      <td>[https://rukminim1.flixcart.com/image/128/128/...</td>\n",
       "      <td>False</td>\n",
       "      <td>TKPFCZ9EVXKBSUD7</td>\n",
       "      <td>[{'Style Code': '1005COMBO1'}, {'Closure': 'Dr...</td>\n",
       "      <td>Shyam Enterprises</td>\n",
       "      <td>943</td>\n",
       "      <td>Bottomwear</td>\n",
       "      <td>Solid Women Brown, Grey Track Pants</td>\n",
       "      <td>https://www.flipkart.com/yorker-solid-men-brow...</td>\n",
       "    </tr>\n",
       "  </tbody>\n",
       "</table>\n",
       "</div>"
      ],
      "text/plain": [
       "                                    _id actual_price average_rating brand  \\\n",
       "0  fa8e22d6-c0b6-5229-bb9e-ad52eda39a0a        2,999            3.9  York   \n",
       "1  893e6980-f2a0-531f-b056-34dd63fe912c        1,499            3.9  York   \n",
       "2  eb4c8eab-8206-59d0-bcd1-a724d96bf74f        2,999            3.9  York   \n",
       "3  3f3f97bb-5faf-57df-a9ff-1af24e2b1045        2,999            3.9  York   \n",
       "4  750caa3d-6264-53ca-8ce1-94118a1d8951        2,999            3.9  York   \n",
       "\n",
       "                   category          crawled_at  \\\n",
       "0  Clothing and Accessories 2021-02-10 20:11:51   \n",
       "1  Clothing and Accessories 2021-02-10 20:11:52   \n",
       "2  Clothing and Accessories 2021-02-10 20:11:52   \n",
       "3  Clothing and Accessories 2021-02-10 20:11:53   \n",
       "4  Clothing and Accessories 2021-02-10 20:11:53   \n",
       "\n",
       "                                         description discount  \\\n",
       "0  Yorker trackpants made from 100% rich combed c...  69% off   \n",
       "1  Yorker trackpants made from 100% rich combed c...  66% off   \n",
       "2  Yorker trackpants made from 100% rich combed c...  68% off   \n",
       "3  Yorker trackpants made from 100% rich combed c...  69% off   \n",
       "4  Yorker trackpants made from 100% rich combed c...  68% off   \n",
       "\n",
       "                                              images  out_of_stock  \\\n",
       "0  [https://rukminim1.flixcart.com/image/128/128/...         False   \n",
       "1  [https://rukminim1.flixcart.com/image/128/128/...         False   \n",
       "2  [https://rukminim1.flixcart.com/image/128/128/...         False   \n",
       "3  [https://rukminim1.flixcart.com/image/128/128/...         False   \n",
       "4  [https://rukminim1.flixcart.com/image/128/128/...         False   \n",
       "\n",
       "                pid                                    product_details  \\\n",
       "0  TKPFCZ9EA7H5FYZH  [{'Style Code': '1005COMBO2'}, {'Closure': 'El...   \n",
       "1  TKPFCZ9EJZV2UVRZ  [{'Style Code': '1005BLUE'}, {'Closure': 'Draw...   \n",
       "2  TKPFCZ9EHFCY5Z4Y  [{'Style Code': '1005COMBO4'}, {'Closure': 'El...   \n",
       "3  TKPFCZ9ESZZ7YWEF  [{'Style Code': '1005COMBO3'}, {'Closure': 'El...   \n",
       "4  TKPFCZ9EVXKBSUD7  [{'Style Code': '1005COMBO1'}, {'Closure': 'Dr...   \n",
       "\n",
       "              seller selling_price sub_category  \\\n",
       "0  Shyam Enterprises           921   Bottomwear   \n",
       "1  Shyam Enterprises           499   Bottomwear   \n",
       "2  Shyam Enterprises           931   Bottomwear   \n",
       "3  Shyam Enterprises           911   Bottomwear   \n",
       "4  Shyam Enterprises           943   Bottomwear   \n",
       "\n",
       "                                 title  \\\n",
       "0   Solid Women Multicolor Track Pants   \n",
       "1           Solid Men Blue Track Pants   \n",
       "2     Solid Men Multicolor Track Pants   \n",
       "3   Solid Women Multicolor Track Pants   \n",
       "4  Solid Women Brown, Grey Track Pants   \n",
       "\n",
       "                                                 url  \n",
       "0  https://www.flipkart.com/yorker-solid-men-mult...  \n",
       "1  https://www.flipkart.com/yorker-solid-men-blue...  \n",
       "2  https://www.flipkart.com/yorker-solid-men-mult...  \n",
       "3  https://www.flipkart.com/yorker-solid-men-mult...  \n",
       "4  https://www.flipkart.com/yorker-solid-men-brow...  "
      ]
     },
     "execution_count": 113,
     "metadata": {},
     "output_type": "execute_result"
    }
   ],
   "source": [
    "data_path =  os.path.join(os.getcwd(), '../../data/')\n",
    "doc_path = os.path.join(data_path, 'fashion_products_dataset.json')\n",
    "\n",
    "data = pd.read_json(doc_path)\n",
    "\n",
    "data.head(5)"
   ]
  },
  {
   "cell_type": "markdown",
   "id": "f6cf2534",
   "metadata": {},
   "source": [
    "1. As a first step, you must pre-process the documents. In particular, for the text fields (title,\n",
    "description) you should:\n",
    "\n",
    "- Removing stop words\n",
    "- Tokenization\n",
    "- Removing punctuation marks\n",
    "- Stemming\n",
    "- and... anything else you think it's needed (bonus point)"
   ]
  },
  {
   "cell_type": "code",
   "execution_count": 114,
   "id": "f9628e73",
   "metadata": {},
   "outputs": [],
   "source": [
    "stemmer = PorterStemmer()\n",
    "stop_words = set(stopwords.words(\"english\"))\n",
    "translator = str.maketrans('', '', string.punctuation)\n",
    "\n",
    "stemmer = PorterStemmer()\n",
    "stop_words = set(stopwords.words('english'))\n",
    "\n",
    "def preprocess_text(text):\n",
    "    text = text.lower() # Lowercase\n",
    "    text = text.translate(translator) # Remove punctuation\n",
    "    text = unidecode(text) # normalize\n",
    "    tokens = word_tokenize(text) # Tokenization\n",
    "    tokens = [word for word in tokens if word.isalpha() and word not in stop_words] # Remove stopwords and non-alphabetic tokens\n",
    "    stemmed_tokens = [stemmer.stem(word) for word in tokens] # Stemming \n",
    "    stemmed_tokens = [word for word in stemmed_tokens if len(word) > 2] # Remove short tokens\n",
    "    return ' '.join(stemmed_tokens)\n",
    "\n",
    "data['title_clean'] = data['title'].apply(preprocess_text)\n",
    "data['description_clean'] = data['description'].apply(preprocess_text)\n",
    "\n",
    "data[['pid', 'title', 'title_clean', 'description_clean']].head(5)\n",
    "\n",
    "# Replace original columns with cleaned versions\n",
    "data['title'] = data['title_clean']\n",
    "data['description'] = data['description_clean']\n",
    "data.drop(columns=['title_clean', 'description_clean'], inplace=True)"
   ]
  },
  {
   "cell_type": "markdown",
   "id": "11c2e779",
   "metadata": {},
   "source": [
    "2. Take into account that for future queries, the final output must return (when present) the following information for each of the  elected documents: pid, title, description, brand, category, sub_category, product_details, seller, out_of_stock, selling_price, discount, actual_price, average_rating, url"
   ]
  },
  {
   "cell_type": "code",
   "execution_count": 115,
   "id": "818b03d7",
   "metadata": {},
   "outputs": [
    {
     "data": {
      "application/vnd.microsoft.datawrangler.viewer.v0+json": {
       "columns": [
        {
         "name": "index",
         "rawType": "int64",
         "type": "integer"
        },
        {
         "name": "pid",
         "rawType": "object",
         "type": "string"
        },
        {
         "name": "title",
         "rawType": "object",
         "type": "string"
        },
        {
         "name": "description",
         "rawType": "object",
         "type": "string"
        },
        {
         "name": "brand",
         "rawType": "object",
         "type": "string"
        },
        {
         "name": "category",
         "rawType": "object",
         "type": "string"
        },
        {
         "name": "sub_category",
         "rawType": "object",
         "type": "string"
        },
        {
         "name": "product_details",
         "rawType": "object",
         "type": "unknown"
        },
        {
         "name": "seller",
         "rawType": "object",
         "type": "string"
        },
        {
         "name": "out_of_stock",
         "rawType": "bool",
         "type": "boolean"
        },
        {
         "name": "selling_price",
         "rawType": "object",
         "type": "string"
        },
        {
         "name": "discount",
         "rawType": "object",
         "type": "string"
        },
        {
         "name": "actual_price",
         "rawType": "object",
         "type": "string"
        },
        {
         "name": "average_rating",
         "rawType": "object",
         "type": "string"
        },
        {
         "name": "url",
         "rawType": "object",
         "type": "string"
        }
       ],
       "ref": "a9a876bc-7bd5-4ce5-9304-2797073ffe98",
       "rows": [
        [
         "0",
         "TKPFCZ9EA7H5FYZH",
         "solid women multicolor track pant",
         "yorker trackpant made rich comb cotton give rich lookdesign comfortskin friendli fabricitchfre waistband great year round use proudli made india",
         "York",
         "Clothing and Accessories",
         "Bottomwear",
         "[{'Style Code': '1005COMBO2'}, {'Closure': 'Elastic'}, {'Pockets': 'Side Pockets'}, {'Fabric': 'Cotton Blend'}, {'Pattern': 'Solid'}, {'Color': 'Multicolor'}]",
         "Shyam Enterprises",
         "False",
         "921",
         "69% off",
         "2,999",
         "3.9",
         "https://www.flipkart.com/yorker-solid-men-multicolor-track-pants/p/itmd2c76aadce459?pid=TKPFCZ9EA7H5FYZH&lid=LSTTKPFCZ9EA7H5FYZHVYXWP0&marketplace=FLIPKART&srno=b_1_1&otracker=browse&fm=organic&iid=177a46eb-d053-4732-b3de-fcad6ff59cbd.TKPFCZ9EA7H5FYZH.SEARCH&ssid=utkd4t3gb40000001612415717799"
        ],
        [
         "1",
         "TKPFCZ9EJZV2UVRZ",
         "solid men blue track pant",
         "yorker trackpant made rich comb cotton give rich lookdesign comfortskin friendli fabricitchfre waistband great year round use proudli made india",
         "York",
         "Clothing and Accessories",
         "Bottomwear",
         "[{'Style Code': '1005BLUE'}, {'Closure': 'Drawstring, Elastic'}, {'Pockets': 'Side Pockets'}, {'Fabric': 'Cotton Blend'}, {'Pattern': 'Solid'}, {'Color': 'Blue'}]",
         "Shyam Enterprises",
         "False",
         "499",
         "66% off",
         "1,499",
         "3.9",
         "https://www.flipkart.com/yorker-solid-men-blue-track-pants/p/itmfczez7v6rzwer?pid=TKPFCZ9EJZV2UVRZ&lid=LSTTKPFCZ9EJZV2UVRZ9HEITU&marketplace=FLIPKART&srno=b_1_2&otracker=browse&fm=organic&iid=177a46eb-d053-4732-b3de-fcad6ff59cbd.TKPFCZ9EJZV2UVRZ.SEARCH&ssid=utkd4t3gb40000001612415717799"
        ],
        [
         "2",
         "TKPFCZ9EHFCY5Z4Y",
         "solid men multicolor track pant",
         "yorker trackpant made rich comb cotton give rich lookdesign comfortskin friendli fabricitchfre waistband great year round use proudli made india",
         "York",
         "Clothing and Accessories",
         "Bottomwear",
         "[{'Style Code': '1005COMBO4'}, {'Closure': 'Elastic'}, {'Pockets': 'Side Pockets'}, {'Fabric': 'Cotton Blend'}, {'Pattern': 'Solid'}, {'Color': 'Multicolor'}]",
         "Shyam Enterprises",
         "False",
         "931",
         "68% off",
         "2,999",
         "3.9",
         "https://www.flipkart.com/yorker-solid-men-multicolor-track-pants/p/itm1eee3ca648155?pid=TKPFCZ9EHFCY5Z4Y&lid=LSTTKPFCZ9EHFCY5Z4YDOVNQS&marketplace=FLIPKART&srno=b_1_3&otracker=browse&fm=organic&iid=177a46eb-d053-4732-b3de-fcad6ff59cbd.TKPFCZ9EHFCY5Z4Y.SEARCH&ssid=utkd4t3gb40000001612415717799"
        ],
        [
         "3",
         "TKPFCZ9ESZZ7YWEF",
         "solid women multicolor track pant",
         "yorker trackpant made rich comb cotton give rich lookdesign comfortskin friendli fabricitchfre waistband great year round use proudli made india",
         "York",
         "Clothing and Accessories",
         "Bottomwear",
         "[{'Style Code': '1005COMBO3'}, {'Closure': 'Elastic'}, {'Pockets': 'Side Pockets'}, {'Fabric': 'Cotton Blend'}, {'Pattern': 'Solid'}, {'Color': 'Multicolor'}]",
         "Shyam Enterprises",
         "False",
         "911",
         "69% off",
         "2,999",
         "3.9",
         "https://www.flipkart.com/yorker-solid-men-multicolor-track-pants/p/itma2f9bfe7dafb7?pid=TKPFCZ9ESZZ7YWEF&lid=LSTTKPFCZ9ESZZ7YWEFAZ1PUK&marketplace=FLIPKART&srno=b_1_4&otracker=browse&fm=organic&iid=177a46eb-d053-4732-b3de-fcad6ff59cbd.TKPFCZ9ESZZ7YWEF.SEARCH&ssid=utkd4t3gb40000001612415717799"
        ],
        [
         "4",
         "TKPFCZ9EVXKBSUD7",
         "solid women brown grey track pant",
         "yorker trackpant made rich comb cotton give rich lookdesign comfortskin friendli fabricitchfre waistband great year round use proudli made india",
         "York",
         "Clothing and Accessories",
         "Bottomwear",
         "[{'Style Code': '1005COMBO1'}, {'Closure': 'Drawstring, Elastic'}, {'Pockets': 'Side Pockets'}, {'Fabric': 'Cotton Blend'}, {'Pattern': 'Solid'}, {'Color': 'Brown, Grey'}]",
         "Shyam Enterprises",
         "False",
         "943",
         "68% off",
         "2,999",
         "3.9",
         "https://www.flipkart.com/yorker-solid-men-brown-grey-track-pants/p/itm1a8387617b373?pid=TKPFCZ9EVXKBSUD7&lid=LSTTKPFCZ9EVXKBSUD7O1SCSG&marketplace=FLIPKART&srno=b_1_5&otracker=browse&fm=organic&iid=177a46eb-d053-4732-b3de-fcad6ff59cbd.TKPFCZ9EVXKBSUD7.SEARCH&ssid=utkd4t3gb40000001612415717799"
        ]
       ],
       "shape": {
        "columns": 14,
        "rows": 5
       }
      },
      "text/html": [
       "<div>\n",
       "<style scoped>\n",
       "    .dataframe tbody tr th:only-of-type {\n",
       "        vertical-align: middle;\n",
       "    }\n",
       "\n",
       "    .dataframe tbody tr th {\n",
       "        vertical-align: top;\n",
       "    }\n",
       "\n",
       "    .dataframe thead th {\n",
       "        text-align: right;\n",
       "    }\n",
       "</style>\n",
       "<table border=\"1\" class=\"dataframe\">\n",
       "  <thead>\n",
       "    <tr style=\"text-align: right;\">\n",
       "      <th></th>\n",
       "      <th>pid</th>\n",
       "      <th>title</th>\n",
       "      <th>description</th>\n",
       "      <th>brand</th>\n",
       "      <th>category</th>\n",
       "      <th>sub_category</th>\n",
       "      <th>product_details</th>\n",
       "      <th>seller</th>\n",
       "      <th>out_of_stock</th>\n",
       "      <th>selling_price</th>\n",
       "      <th>discount</th>\n",
       "      <th>actual_price</th>\n",
       "      <th>average_rating</th>\n",
       "      <th>url</th>\n",
       "    </tr>\n",
       "  </thead>\n",
       "  <tbody>\n",
       "    <tr>\n",
       "      <th>0</th>\n",
       "      <td>TKPFCZ9EA7H5FYZH</td>\n",
       "      <td>solid women multicolor track pant</td>\n",
       "      <td>yorker trackpant made rich comb cotton give ri...</td>\n",
       "      <td>York</td>\n",
       "      <td>Clothing and Accessories</td>\n",
       "      <td>Bottomwear</td>\n",
       "      <td>[{'Style Code': '1005COMBO2'}, {'Closure': 'El...</td>\n",
       "      <td>Shyam Enterprises</td>\n",
       "      <td>False</td>\n",
       "      <td>921</td>\n",
       "      <td>69% off</td>\n",
       "      <td>2,999</td>\n",
       "      <td>3.9</td>\n",
       "      <td>https://www.flipkart.com/yorker-solid-men-mult...</td>\n",
       "    </tr>\n",
       "    <tr>\n",
       "      <th>1</th>\n",
       "      <td>TKPFCZ9EJZV2UVRZ</td>\n",
       "      <td>solid men blue track pant</td>\n",
       "      <td>yorker trackpant made rich comb cotton give ri...</td>\n",
       "      <td>York</td>\n",
       "      <td>Clothing and Accessories</td>\n",
       "      <td>Bottomwear</td>\n",
       "      <td>[{'Style Code': '1005BLUE'}, {'Closure': 'Draw...</td>\n",
       "      <td>Shyam Enterprises</td>\n",
       "      <td>False</td>\n",
       "      <td>499</td>\n",
       "      <td>66% off</td>\n",
       "      <td>1,499</td>\n",
       "      <td>3.9</td>\n",
       "      <td>https://www.flipkart.com/yorker-solid-men-blue...</td>\n",
       "    </tr>\n",
       "    <tr>\n",
       "      <th>2</th>\n",
       "      <td>TKPFCZ9EHFCY5Z4Y</td>\n",
       "      <td>solid men multicolor track pant</td>\n",
       "      <td>yorker trackpant made rich comb cotton give ri...</td>\n",
       "      <td>York</td>\n",
       "      <td>Clothing and Accessories</td>\n",
       "      <td>Bottomwear</td>\n",
       "      <td>[{'Style Code': '1005COMBO4'}, {'Closure': 'El...</td>\n",
       "      <td>Shyam Enterprises</td>\n",
       "      <td>False</td>\n",
       "      <td>931</td>\n",
       "      <td>68% off</td>\n",
       "      <td>2,999</td>\n",
       "      <td>3.9</td>\n",
       "      <td>https://www.flipkart.com/yorker-solid-men-mult...</td>\n",
       "    </tr>\n",
       "    <tr>\n",
       "      <th>3</th>\n",
       "      <td>TKPFCZ9ESZZ7YWEF</td>\n",
       "      <td>solid women multicolor track pant</td>\n",
       "      <td>yorker trackpant made rich comb cotton give ri...</td>\n",
       "      <td>York</td>\n",
       "      <td>Clothing and Accessories</td>\n",
       "      <td>Bottomwear</td>\n",
       "      <td>[{'Style Code': '1005COMBO3'}, {'Closure': 'El...</td>\n",
       "      <td>Shyam Enterprises</td>\n",
       "      <td>False</td>\n",
       "      <td>911</td>\n",
       "      <td>69% off</td>\n",
       "      <td>2,999</td>\n",
       "      <td>3.9</td>\n",
       "      <td>https://www.flipkart.com/yorker-solid-men-mult...</td>\n",
       "    </tr>\n",
       "    <tr>\n",
       "      <th>4</th>\n",
       "      <td>TKPFCZ9EVXKBSUD7</td>\n",
       "      <td>solid women brown grey track pant</td>\n",
       "      <td>yorker trackpant made rich comb cotton give ri...</td>\n",
       "      <td>York</td>\n",
       "      <td>Clothing and Accessories</td>\n",
       "      <td>Bottomwear</td>\n",
       "      <td>[{'Style Code': '1005COMBO1'}, {'Closure': 'Dr...</td>\n",
       "      <td>Shyam Enterprises</td>\n",
       "      <td>False</td>\n",
       "      <td>943</td>\n",
       "      <td>68% off</td>\n",
       "      <td>2,999</td>\n",
       "      <td>3.9</td>\n",
       "      <td>https://www.flipkart.com/yorker-solid-men-brow...</td>\n",
       "    </tr>\n",
       "  </tbody>\n",
       "</table>\n",
       "</div>"
      ],
      "text/plain": [
       "                pid                              title  \\\n",
       "0  TKPFCZ9EA7H5FYZH  solid women multicolor track pant   \n",
       "1  TKPFCZ9EJZV2UVRZ          solid men blue track pant   \n",
       "2  TKPFCZ9EHFCY5Z4Y    solid men multicolor track pant   \n",
       "3  TKPFCZ9ESZZ7YWEF  solid women multicolor track pant   \n",
       "4  TKPFCZ9EVXKBSUD7  solid women brown grey track pant   \n",
       "\n",
       "                                         description brand  \\\n",
       "0  yorker trackpant made rich comb cotton give ri...  York   \n",
       "1  yorker trackpant made rich comb cotton give ri...  York   \n",
       "2  yorker trackpant made rich comb cotton give ri...  York   \n",
       "3  yorker trackpant made rich comb cotton give ri...  York   \n",
       "4  yorker trackpant made rich comb cotton give ri...  York   \n",
       "\n",
       "                   category sub_category  \\\n",
       "0  Clothing and Accessories   Bottomwear   \n",
       "1  Clothing and Accessories   Bottomwear   \n",
       "2  Clothing and Accessories   Bottomwear   \n",
       "3  Clothing and Accessories   Bottomwear   \n",
       "4  Clothing and Accessories   Bottomwear   \n",
       "\n",
       "                                     product_details             seller  \\\n",
       "0  [{'Style Code': '1005COMBO2'}, {'Closure': 'El...  Shyam Enterprises   \n",
       "1  [{'Style Code': '1005BLUE'}, {'Closure': 'Draw...  Shyam Enterprises   \n",
       "2  [{'Style Code': '1005COMBO4'}, {'Closure': 'El...  Shyam Enterprises   \n",
       "3  [{'Style Code': '1005COMBO3'}, {'Closure': 'El...  Shyam Enterprises   \n",
       "4  [{'Style Code': '1005COMBO1'}, {'Closure': 'Dr...  Shyam Enterprises   \n",
       "\n",
       "   out_of_stock selling_price discount actual_price average_rating  \\\n",
       "0         False           921  69% off        2,999            3.9   \n",
       "1         False           499  66% off        1,499            3.9   \n",
       "2         False           931  68% off        2,999            3.9   \n",
       "3         False           911  69% off        2,999            3.9   \n",
       "4         False           943  68% off        2,999            3.9   \n",
       "\n",
       "                                                 url  \n",
       "0  https://www.flipkart.com/yorker-solid-men-mult...  \n",
       "1  https://www.flipkart.com/yorker-solid-men-blue...  \n",
       "2  https://www.flipkart.com/yorker-solid-men-mult...  \n",
       "3  https://www.flipkart.com/yorker-solid-men-mult...  \n",
       "4  https://www.flipkart.com/yorker-solid-men-brow...  "
      ]
     },
     "execution_count": 115,
     "metadata": {},
     "output_type": "execute_result"
    }
   ],
   "source": [
    "relevant_columns = [\n",
    "    'pid', 'title', 'description', 'brand', \n",
    "    'category', 'sub_category', 'product_details', \n",
    "    'seller', 'out_of_stock', 'selling_price', \n",
    "    'discount', 'actual_price', 'average_rating', 'url'\n",
    "]\n",
    "\n",
    "available_fields = [f for f in relevant_columns if f in data.columns]\n",
    "clean_data = data[available_fields].copy()\n",
    "clean_data.head(5)"
   ]
  },
  {
   "cell_type": "markdown",
   "id": "6ecee2ad",
   "metadata": {},
   "source": [
    "3. Decide how to handle the fields category, sub_category, brand, product_details, and seller during pre-processing. Should they be merged into a single text field, indexed as separate fields in the inverted index or any other alternative? Justify your choice, considering how their distinctiveness may affect retrieval effectiveness. What are pros and cons of each approach?"
   ]
  },
  {
   "cell_type": "code",
   "execution_count": 116,
   "id": "0f819bac",
   "metadata": {},
   "outputs": [
    {
     "data": {
      "application/vnd.microsoft.datawrangler.viewer.v0+json": {
       "columns": [
        {
         "name": "index",
         "rawType": "int64",
         "type": "integer"
        },
        {
         "name": "pid",
         "rawType": "object",
         "type": "string"
        },
        {
         "name": "title",
         "rawType": "object",
         "type": "string"
        },
        {
         "name": "description",
         "rawType": "object",
         "type": "string"
        },
        {
         "name": "brand",
         "rawType": "object",
         "type": "string"
        },
        {
         "name": "category",
         "rawType": "object",
         "type": "string"
        },
        {
         "name": "sub_category",
         "rawType": "object",
         "type": "string"
        },
        {
         "name": "product_details",
         "rawType": "object",
         "type": "unknown"
        },
        {
         "name": "seller",
         "rawType": "object",
         "type": "string"
        },
        {
         "name": "out_of_stock",
         "rawType": "bool",
         "type": "boolean"
        },
        {
         "name": "selling_price",
         "rawType": "object",
         "type": "string"
        },
        {
         "name": "discount",
         "rawType": "object",
         "type": "string"
        },
        {
         "name": "actual_price",
         "rawType": "object",
         "type": "string"
        },
        {
         "name": "average_rating",
         "rawType": "object",
         "type": "string"
        },
        {
         "name": "url",
         "rawType": "object",
         "type": "string"
        },
        {
         "name": "category_clean",
         "rawType": "object",
         "type": "string"
        },
        {
         "name": "sub_category_clean",
         "rawType": "object",
         "type": "string"
        },
        {
         "name": "brand_clean",
         "rawType": "object",
         "type": "string"
        },
        {
         "name": "product_details_clean",
         "rawType": "object",
         "type": "string"
        },
        {
         "name": "seller_clean",
         "rawType": "object",
         "type": "string"
        }
       ],
       "ref": "7f29cfde-b6a0-4021-9ebe-1c02aac84a0c",
       "rows": [
        [
         "0",
         "TKPFCZ9EA7H5FYZH",
         "solid women multicolor track pant",
         "yorker trackpant made rich comb cotton give rich lookdesign comfortskin friendli fabricitchfre waistband great year round use proudli made india",
         "York",
         "Clothing and Accessories",
         "Bottomwear",
         "[{'Style Code': '1005COMBO2'}, {'Closure': 'Elastic'}, {'Pockets': 'Side Pockets'}, {'Fabric': 'Cotton Blend'}, {'Pattern': 'Solid'}, {'Color': 'Multicolor'}]",
         "Shyam Enterprises",
         "False",
         "921",
         "69% off",
         "2,999",
         "3.9",
         "https://www.flipkart.com/yorker-solid-men-multicolor-track-pants/p/itmd2c76aadce459?pid=TKPFCZ9EA7H5FYZH&lid=LSTTKPFCZ9EA7H5FYZHVYXWP0&marketplace=FLIPKART&srno=b_1_1&otracker=browse&fm=organic&iid=177a46eb-d053-4732-b3de-fcad6ff59cbd.TKPFCZ9EA7H5FYZH.SEARCH&ssid=utkd4t3gb40000001612415717799",
         "clothing and accessories",
         "bottomwear",
         "york",
         "",
         "shyam enterprises"
        ],
        [
         "1",
         "TKPFCZ9EJZV2UVRZ",
         "solid men blue track pant",
         "yorker trackpant made rich comb cotton give rich lookdesign comfortskin friendli fabricitchfre waistband great year round use proudli made india",
         "York",
         "Clothing and Accessories",
         "Bottomwear",
         "[{'Style Code': '1005BLUE'}, {'Closure': 'Drawstring, Elastic'}, {'Pockets': 'Side Pockets'}, {'Fabric': 'Cotton Blend'}, {'Pattern': 'Solid'}, {'Color': 'Blue'}]",
         "Shyam Enterprises",
         "False",
         "499",
         "66% off",
         "1,499",
         "3.9",
         "https://www.flipkart.com/yorker-solid-men-blue-track-pants/p/itmfczez7v6rzwer?pid=TKPFCZ9EJZV2UVRZ&lid=LSTTKPFCZ9EJZV2UVRZ9HEITU&marketplace=FLIPKART&srno=b_1_2&otracker=browse&fm=organic&iid=177a46eb-d053-4732-b3de-fcad6ff59cbd.TKPFCZ9EJZV2UVRZ.SEARCH&ssid=utkd4t3gb40000001612415717799",
         "clothing and accessories",
         "bottomwear",
         "york",
         "",
         "shyam enterprises"
        ],
        [
         "2",
         "TKPFCZ9EHFCY5Z4Y",
         "solid men multicolor track pant",
         "yorker trackpant made rich comb cotton give rich lookdesign comfortskin friendli fabricitchfre waistband great year round use proudli made india",
         "York",
         "Clothing and Accessories",
         "Bottomwear",
         "[{'Style Code': '1005COMBO4'}, {'Closure': 'Elastic'}, {'Pockets': 'Side Pockets'}, {'Fabric': 'Cotton Blend'}, {'Pattern': 'Solid'}, {'Color': 'Multicolor'}]",
         "Shyam Enterprises",
         "False",
         "931",
         "68% off",
         "2,999",
         "3.9",
         "https://www.flipkart.com/yorker-solid-men-multicolor-track-pants/p/itm1eee3ca648155?pid=TKPFCZ9EHFCY5Z4Y&lid=LSTTKPFCZ9EHFCY5Z4YDOVNQS&marketplace=FLIPKART&srno=b_1_3&otracker=browse&fm=organic&iid=177a46eb-d053-4732-b3de-fcad6ff59cbd.TKPFCZ9EHFCY5Z4Y.SEARCH&ssid=utkd4t3gb40000001612415717799",
         "clothing and accessories",
         "bottomwear",
         "york",
         "",
         "shyam enterprises"
        ],
        [
         "3",
         "TKPFCZ9ESZZ7YWEF",
         "solid women multicolor track pant",
         "yorker trackpant made rich comb cotton give rich lookdesign comfortskin friendli fabricitchfre waistband great year round use proudli made india",
         "York",
         "Clothing and Accessories",
         "Bottomwear",
         "[{'Style Code': '1005COMBO3'}, {'Closure': 'Elastic'}, {'Pockets': 'Side Pockets'}, {'Fabric': 'Cotton Blend'}, {'Pattern': 'Solid'}, {'Color': 'Multicolor'}]",
         "Shyam Enterprises",
         "False",
         "911",
         "69% off",
         "2,999",
         "3.9",
         "https://www.flipkart.com/yorker-solid-men-multicolor-track-pants/p/itma2f9bfe7dafb7?pid=TKPFCZ9ESZZ7YWEF&lid=LSTTKPFCZ9ESZZ7YWEFAZ1PUK&marketplace=FLIPKART&srno=b_1_4&otracker=browse&fm=organic&iid=177a46eb-d053-4732-b3de-fcad6ff59cbd.TKPFCZ9ESZZ7YWEF.SEARCH&ssid=utkd4t3gb40000001612415717799",
         "clothing and accessories",
         "bottomwear",
         "york",
         "",
         "shyam enterprises"
        ],
        [
         "4",
         "TKPFCZ9EVXKBSUD7",
         "solid women brown grey track pant",
         "yorker trackpant made rich comb cotton give rich lookdesign comfortskin friendli fabricitchfre waistband great year round use proudli made india",
         "York",
         "Clothing and Accessories",
         "Bottomwear",
         "[{'Style Code': '1005COMBO1'}, {'Closure': 'Drawstring, Elastic'}, {'Pockets': 'Side Pockets'}, {'Fabric': 'Cotton Blend'}, {'Pattern': 'Solid'}, {'Color': 'Brown, Grey'}]",
         "Shyam Enterprises",
         "False",
         "943",
         "68% off",
         "2,999",
         "3.9",
         "https://www.flipkart.com/yorker-solid-men-brown-grey-track-pants/p/itm1a8387617b373?pid=TKPFCZ9EVXKBSUD7&lid=LSTTKPFCZ9EVXKBSUD7O1SCSG&marketplace=FLIPKART&srno=b_1_5&otracker=browse&fm=organic&iid=177a46eb-d053-4732-b3de-fcad6ff59cbd.TKPFCZ9EVXKBSUD7.SEARCH&ssid=utkd4t3gb40000001612415717799",
         "clothing and accessories",
         "bottomwear",
         "york",
         "",
         "shyam enterprises"
        ]
       ],
       "shape": {
        "columns": 19,
        "rows": 5
       }
      },
      "text/html": [
       "<div>\n",
       "<style scoped>\n",
       "    .dataframe tbody tr th:only-of-type {\n",
       "        vertical-align: middle;\n",
       "    }\n",
       "\n",
       "    .dataframe tbody tr th {\n",
       "        vertical-align: top;\n",
       "    }\n",
       "\n",
       "    .dataframe thead th {\n",
       "        text-align: right;\n",
       "    }\n",
       "</style>\n",
       "<table border=\"1\" class=\"dataframe\">\n",
       "  <thead>\n",
       "    <tr style=\"text-align: right;\">\n",
       "      <th></th>\n",
       "      <th>pid</th>\n",
       "      <th>title</th>\n",
       "      <th>description</th>\n",
       "      <th>brand</th>\n",
       "      <th>category</th>\n",
       "      <th>sub_category</th>\n",
       "      <th>product_details</th>\n",
       "      <th>seller</th>\n",
       "      <th>out_of_stock</th>\n",
       "      <th>selling_price</th>\n",
       "      <th>discount</th>\n",
       "      <th>actual_price</th>\n",
       "      <th>average_rating</th>\n",
       "      <th>url</th>\n",
       "      <th>category_clean</th>\n",
       "      <th>sub_category_clean</th>\n",
       "      <th>brand_clean</th>\n",
       "      <th>product_details_clean</th>\n",
       "      <th>seller_clean</th>\n",
       "    </tr>\n",
       "  </thead>\n",
       "  <tbody>\n",
       "    <tr>\n",
       "      <th>0</th>\n",
       "      <td>TKPFCZ9EA7H5FYZH</td>\n",
       "      <td>solid women multicolor track pant</td>\n",
       "      <td>yorker trackpant made rich comb cotton give ri...</td>\n",
       "      <td>York</td>\n",
       "      <td>Clothing and Accessories</td>\n",
       "      <td>Bottomwear</td>\n",
       "      <td>[{'Style Code': '1005COMBO2'}, {'Closure': 'El...</td>\n",
       "      <td>Shyam Enterprises</td>\n",
       "      <td>False</td>\n",
       "      <td>921</td>\n",
       "      <td>69% off</td>\n",
       "      <td>2,999</td>\n",
       "      <td>3.9</td>\n",
       "      <td>https://www.flipkart.com/yorker-solid-men-mult...</td>\n",
       "      <td>clothing and accessories</td>\n",
       "      <td>bottomwear</td>\n",
       "      <td>york</td>\n",
       "      <td></td>\n",
       "      <td>shyam enterprises</td>\n",
       "    </tr>\n",
       "    <tr>\n",
       "      <th>1</th>\n",
       "      <td>TKPFCZ9EJZV2UVRZ</td>\n",
       "      <td>solid men blue track pant</td>\n",
       "      <td>yorker trackpant made rich comb cotton give ri...</td>\n",
       "      <td>York</td>\n",
       "      <td>Clothing and Accessories</td>\n",
       "      <td>Bottomwear</td>\n",
       "      <td>[{'Style Code': '1005BLUE'}, {'Closure': 'Draw...</td>\n",
       "      <td>Shyam Enterprises</td>\n",
       "      <td>False</td>\n",
       "      <td>499</td>\n",
       "      <td>66% off</td>\n",
       "      <td>1,499</td>\n",
       "      <td>3.9</td>\n",
       "      <td>https://www.flipkart.com/yorker-solid-men-blue...</td>\n",
       "      <td>clothing and accessories</td>\n",
       "      <td>bottomwear</td>\n",
       "      <td>york</td>\n",
       "      <td></td>\n",
       "      <td>shyam enterprises</td>\n",
       "    </tr>\n",
       "    <tr>\n",
       "      <th>2</th>\n",
       "      <td>TKPFCZ9EHFCY5Z4Y</td>\n",
       "      <td>solid men multicolor track pant</td>\n",
       "      <td>yorker trackpant made rich comb cotton give ri...</td>\n",
       "      <td>York</td>\n",
       "      <td>Clothing and Accessories</td>\n",
       "      <td>Bottomwear</td>\n",
       "      <td>[{'Style Code': '1005COMBO4'}, {'Closure': 'El...</td>\n",
       "      <td>Shyam Enterprises</td>\n",
       "      <td>False</td>\n",
       "      <td>931</td>\n",
       "      <td>68% off</td>\n",
       "      <td>2,999</td>\n",
       "      <td>3.9</td>\n",
       "      <td>https://www.flipkart.com/yorker-solid-men-mult...</td>\n",
       "      <td>clothing and accessories</td>\n",
       "      <td>bottomwear</td>\n",
       "      <td>york</td>\n",
       "      <td></td>\n",
       "      <td>shyam enterprises</td>\n",
       "    </tr>\n",
       "    <tr>\n",
       "      <th>3</th>\n",
       "      <td>TKPFCZ9ESZZ7YWEF</td>\n",
       "      <td>solid women multicolor track pant</td>\n",
       "      <td>yorker trackpant made rich comb cotton give ri...</td>\n",
       "      <td>York</td>\n",
       "      <td>Clothing and Accessories</td>\n",
       "      <td>Bottomwear</td>\n",
       "      <td>[{'Style Code': '1005COMBO3'}, {'Closure': 'El...</td>\n",
       "      <td>Shyam Enterprises</td>\n",
       "      <td>False</td>\n",
       "      <td>911</td>\n",
       "      <td>69% off</td>\n",
       "      <td>2,999</td>\n",
       "      <td>3.9</td>\n",
       "      <td>https://www.flipkart.com/yorker-solid-men-mult...</td>\n",
       "      <td>clothing and accessories</td>\n",
       "      <td>bottomwear</td>\n",
       "      <td>york</td>\n",
       "      <td></td>\n",
       "      <td>shyam enterprises</td>\n",
       "    </tr>\n",
       "    <tr>\n",
       "      <th>4</th>\n",
       "      <td>TKPFCZ9EVXKBSUD7</td>\n",
       "      <td>solid women brown grey track pant</td>\n",
       "      <td>yorker trackpant made rich comb cotton give ri...</td>\n",
       "      <td>York</td>\n",
       "      <td>Clothing and Accessories</td>\n",
       "      <td>Bottomwear</td>\n",
       "      <td>[{'Style Code': '1005COMBO1'}, {'Closure': 'Dr...</td>\n",
       "      <td>Shyam Enterprises</td>\n",
       "      <td>False</td>\n",
       "      <td>943</td>\n",
       "      <td>68% off</td>\n",
       "      <td>2,999</td>\n",
       "      <td>3.9</td>\n",
       "      <td>https://www.flipkart.com/yorker-solid-men-brow...</td>\n",
       "      <td>clothing and accessories</td>\n",
       "      <td>bottomwear</td>\n",
       "      <td>york</td>\n",
       "      <td></td>\n",
       "      <td>shyam enterprises</td>\n",
       "    </tr>\n",
       "  </tbody>\n",
       "</table>\n",
       "</div>"
      ],
      "text/plain": [
       "                pid                              title  \\\n",
       "0  TKPFCZ9EA7H5FYZH  solid women multicolor track pant   \n",
       "1  TKPFCZ9EJZV2UVRZ          solid men blue track pant   \n",
       "2  TKPFCZ9EHFCY5Z4Y    solid men multicolor track pant   \n",
       "3  TKPFCZ9ESZZ7YWEF  solid women multicolor track pant   \n",
       "4  TKPFCZ9EVXKBSUD7  solid women brown grey track pant   \n",
       "\n",
       "                                         description brand  \\\n",
       "0  yorker trackpant made rich comb cotton give ri...  York   \n",
       "1  yorker trackpant made rich comb cotton give ri...  York   \n",
       "2  yorker trackpant made rich comb cotton give ri...  York   \n",
       "3  yorker trackpant made rich comb cotton give ri...  York   \n",
       "4  yorker trackpant made rich comb cotton give ri...  York   \n",
       "\n",
       "                   category sub_category  \\\n",
       "0  Clothing and Accessories   Bottomwear   \n",
       "1  Clothing and Accessories   Bottomwear   \n",
       "2  Clothing and Accessories   Bottomwear   \n",
       "3  Clothing and Accessories   Bottomwear   \n",
       "4  Clothing and Accessories   Bottomwear   \n",
       "\n",
       "                                     product_details             seller  \\\n",
       "0  [{'Style Code': '1005COMBO2'}, {'Closure': 'El...  Shyam Enterprises   \n",
       "1  [{'Style Code': '1005BLUE'}, {'Closure': 'Draw...  Shyam Enterprises   \n",
       "2  [{'Style Code': '1005COMBO4'}, {'Closure': 'El...  Shyam Enterprises   \n",
       "3  [{'Style Code': '1005COMBO3'}, {'Closure': 'El...  Shyam Enterprises   \n",
       "4  [{'Style Code': '1005COMBO1'}, {'Closure': 'Dr...  Shyam Enterprises   \n",
       "\n",
       "   out_of_stock selling_price discount actual_price average_rating  \\\n",
       "0         False           921  69% off        2,999            3.9   \n",
       "1         False           499  66% off        1,499            3.9   \n",
       "2         False           931  68% off        2,999            3.9   \n",
       "3         False           911  69% off        2,999            3.9   \n",
       "4         False           943  68% off        2,999            3.9   \n",
       "\n",
       "                                                 url  \\\n",
       "0  https://www.flipkart.com/yorker-solid-men-mult...   \n",
       "1  https://www.flipkart.com/yorker-solid-men-blue...   \n",
       "2  https://www.flipkart.com/yorker-solid-men-mult...   \n",
       "3  https://www.flipkart.com/yorker-solid-men-mult...   \n",
       "4  https://www.flipkart.com/yorker-solid-men-brow...   \n",
       "\n",
       "             category_clean sub_category_clean brand_clean  \\\n",
       "0  clothing and accessories         bottomwear        york   \n",
       "1  clothing and accessories         bottomwear        york   \n",
       "2  clothing and accessories         bottomwear        york   \n",
       "3  clothing and accessories         bottomwear        york   \n",
       "4  clothing and accessories         bottomwear        york   \n",
       "\n",
       "  product_details_clean       seller_clean  \n",
       "0                        shyam enterprises  \n",
       "1                        shyam enterprises  \n",
       "2                        shyam enterprises  \n",
       "3                        shyam enterprises  \n",
       "4                        shyam enterprises  "
      ]
     },
     "metadata": {},
     "output_type": "display_data"
    }
   ],
   "source": [
    "def clean_metadata_field(text):\n",
    "    if not isinstance(text, str):\n",
    "        return \"\"\n",
    "    text = text.lower().translate(str.maketrans('', '', string.punctuation))\n",
    "    return text.strip()\n",
    "\n",
    "metadata_fields = ['category', 'sub_category', 'brand', 'product_details', 'seller']\n",
    "for field in metadata_fields:\n",
    "    clean_data[f'{field}_clean'] = clean_data[field].apply(clean_metadata_field)\n",
    "\n",
    "display(clean_data.head(5))\n",
    "\n",
    "# Replace original metadata columns with cleaned versions\n",
    "for field in metadata_fields:\n",
    "    clean_data[field] = clean_data[f'{field}_clean']\n",
    "    clean_data.drop(columns=[f'{field}_clean'], inplace=True)"
   ]
  },
  {
   "cell_type": "markdown",
   "id": "faa5c438",
   "metadata": {},
   "source": [
    "4. Consider the fields out_of_stock, selling_price, discount, actual_price, and average_rating. Decide how these should be handled during pre-processing to use in further search. Should they be indexed as textual terms?"
   ]
  },
  {
   "cell_type": "code",
   "execution_count": 117,
   "id": "1f6bb975",
   "metadata": {},
   "outputs": [
    {
     "data": {
      "text/plain": [
       "' def blank_to_nan(x):\\n    if isinstance(x, str) and x.strip() == \"\":\\n        return np.nan\\n    return x\\n\\nclean_data = clean_data.applymap(blank_to_nan) '"
      ]
     },
     "execution_count": 117,
     "metadata": {},
     "output_type": "execute_result"
    }
   ],
   "source": [
    "# Convert blank cells to NaN\n",
    "\"\"\" def blank_to_nan(x):\n",
    "    if isinstance(x, str) and x.strip() == \"\":\n",
    "        return np.nan\n",
    "    return x\n",
    "\n",
    "clean_data = clean_data.applymap(blank_to_nan) \"\"\""
   ]
  },
  {
   "cell_type": "code",
   "execution_count": 118,
   "id": "6b065bd6",
   "metadata": {},
   "outputs": [
    {
     "data": {
      "application/vnd.microsoft.datawrangler.viewer.v0+json": {
       "columns": [
        {
         "name": "index",
         "rawType": "object",
         "type": "string"
        },
        {
         "name": "out_of_stock",
         "rawType": "float64",
         "type": "float"
        },
        {
         "name": "discount",
         "rawType": "float64",
         "type": "float"
        },
        {
         "name": "selling_price",
         "rawType": "float64",
         "type": "float"
        },
        {
         "name": "actual_price",
         "rawType": "float64",
         "type": "float"
        },
        {
         "name": "average_rating",
         "rawType": "float64",
         "type": "float"
        }
       ],
       "ref": "5911bfe4-37ea-4ad7-b1a5-a2b25ac07cd1",
       "rows": [
        [
         "count",
         "28080.0",
         "27225.0",
         "28078.0",
         "27303.0",
         "25819.0"
        ],
        [
         "mean",
         "0.05854700854700855",
         "50.25689623507805",
         "705.6350879692286",
         "1455.5281104640517",
         "3.6277237693171696"
        ],
        [
         "std",
         "0.2347790862568298",
         "16.88728739614231",
         "549.6814891102233",
         "939.9774558309044",
         "0.6634293345254286"
        ],
        [
         "min",
         "0.0",
         "1.0",
         "99.0",
         "150.0",
         "1.0"
        ],
        [
         "25%",
         "0.0",
         "40.0",
         "390.0",
         "849.0",
         "3.2"
        ],
        [
         "50%",
         "0.0",
         "53.0",
         "545.0",
         "1199.0",
         "3.8"
        ],
        [
         "75%",
         "0.0",
         "63.0",
         "820.0",
         "1799.0",
         "4.1"
        ],
        [
         "max",
         "1.0",
         "87.0",
         "7999.0",
         "12999.0",
         "5.0"
        ]
       ],
       "shape": {
        "columns": 5,
        "rows": 8
       }
      },
      "text/html": [
       "<div>\n",
       "<style scoped>\n",
       "    .dataframe tbody tr th:only-of-type {\n",
       "        vertical-align: middle;\n",
       "    }\n",
       "\n",
       "    .dataframe tbody tr th {\n",
       "        vertical-align: top;\n",
       "    }\n",
       "\n",
       "    .dataframe thead th {\n",
       "        text-align: right;\n",
       "    }\n",
       "</style>\n",
       "<table border=\"1\" class=\"dataframe\">\n",
       "  <thead>\n",
       "    <tr style=\"text-align: right;\">\n",
       "      <th></th>\n",
       "      <th>out_of_stock</th>\n",
       "      <th>discount</th>\n",
       "      <th>selling_price</th>\n",
       "      <th>actual_price</th>\n",
       "      <th>average_rating</th>\n",
       "    </tr>\n",
       "  </thead>\n",
       "  <tbody>\n",
       "    <tr>\n",
       "      <th>count</th>\n",
       "      <td>28080.000000</td>\n",
       "      <td>27225.000000</td>\n",
       "      <td>28078.000000</td>\n",
       "      <td>27303.000000</td>\n",
       "      <td>25819.000000</td>\n",
       "    </tr>\n",
       "    <tr>\n",
       "      <th>mean</th>\n",
       "      <td>0.058547</td>\n",
       "      <td>50.256896</td>\n",
       "      <td>705.635088</td>\n",
       "      <td>1455.528110</td>\n",
       "      <td>3.627724</td>\n",
       "    </tr>\n",
       "    <tr>\n",
       "      <th>std</th>\n",
       "      <td>0.234779</td>\n",
       "      <td>16.887287</td>\n",
       "      <td>549.681489</td>\n",
       "      <td>939.977456</td>\n",
       "      <td>0.663429</td>\n",
       "    </tr>\n",
       "    <tr>\n",
       "      <th>min</th>\n",
       "      <td>0.000000</td>\n",
       "      <td>1.000000</td>\n",
       "      <td>99.000000</td>\n",
       "      <td>150.000000</td>\n",
       "      <td>1.000000</td>\n",
       "    </tr>\n",
       "    <tr>\n",
       "      <th>25%</th>\n",
       "      <td>0.000000</td>\n",
       "      <td>40.000000</td>\n",
       "      <td>390.000000</td>\n",
       "      <td>849.000000</td>\n",
       "      <td>3.200000</td>\n",
       "    </tr>\n",
       "    <tr>\n",
       "      <th>50%</th>\n",
       "      <td>0.000000</td>\n",
       "      <td>53.000000</td>\n",
       "      <td>545.000000</td>\n",
       "      <td>1199.000000</td>\n",
       "      <td>3.800000</td>\n",
       "    </tr>\n",
       "    <tr>\n",
       "      <th>75%</th>\n",
       "      <td>0.000000</td>\n",
       "      <td>63.000000</td>\n",
       "      <td>820.000000</td>\n",
       "      <td>1799.000000</td>\n",
       "      <td>4.100000</td>\n",
       "    </tr>\n",
       "    <tr>\n",
       "      <th>max</th>\n",
       "      <td>1.000000</td>\n",
       "      <td>87.000000</td>\n",
       "      <td>7999.000000</td>\n",
       "      <td>12999.000000</td>\n",
       "      <td>5.000000</td>\n",
       "    </tr>\n",
       "  </tbody>\n",
       "</table>\n",
       "</div>"
      ],
      "text/plain": [
       "       out_of_stock      discount  selling_price  actual_price  average_rating\n",
       "count  28080.000000  27225.000000   28078.000000  27303.000000    25819.000000\n",
       "mean       0.058547     50.256896     705.635088   1455.528110        3.627724\n",
       "std        0.234779     16.887287     549.681489    939.977456        0.663429\n",
       "min        0.000000      1.000000      99.000000    150.000000        1.000000\n",
       "25%        0.000000     40.000000     390.000000    849.000000        3.200000\n",
       "50%        0.000000     53.000000     545.000000   1199.000000        3.800000\n",
       "75%        0.000000     63.000000     820.000000   1799.000000        4.100000\n",
       "max        1.000000     87.000000    7999.000000  12999.000000        5.000000"
      ]
     },
     "metadata": {},
     "output_type": "display_data"
    }
   ],
   "source": [
    "# Convert data types to numeric\n",
    "clean_data[\"out_of_stock\"] = clean_data[\"out_of_stock\"].astype(int)\n",
    "\n",
    "clean_data[\"selling_price\"] = clean_data[\"selling_price\"].str.replace(',', '', regex=False)\n",
    "clean_data[\"selling_price\"] = clean_data[\"selling_price\"].replace('', np.nan)\n",
    "clean_data[\"selling_price\"] = clean_data[\"selling_price\"].astype(float)\n",
    "\n",
    "clean_data[\"discount\"] = clean_data[\"discount\"].str.replace('%', '', regex=False)\n",
    "clean_data[\"discount\"] = clean_data[\"discount\"].str.replace('off', '', regex=False)\n",
    "clean_data[\"discount\"] = clean_data[\"discount\"].str.replace(' ', '', regex=False)\n",
    "clean_data[\"discount\"] = clean_data[\"discount\"].replace('', np.nan)\n",
    "clean_data[\"discount\"] = clean_data[\"discount\"].astype(float)\n",
    "\n",
    "clean_data[\"actual_price\"] = clean_data[\"actual_price\"].str.replace(',', '', regex=False)\n",
    "clean_data[\"actual_price\"] = clean_data[\"actual_price\"].replace('', np.nan)\n",
    "clean_data[\"actual_price\"] = clean_data[\"actual_price\"].astype(float)\n",
    "\n",
    "clean_data[\"average_rating\"] = clean_data[\"average_rating\"].replace('', np.nan)\n",
    "clean_data[\"average_rating\"] = clean_data[\"average_rating\"].astype(float)\n",
    "\n",
    "\n",
    "clean_data.head(5)\n",
    "\n",
    "num_fields = ['out_of_stock', 'discount', 'selling_price', 'actual_price', 'average_rating']\n",
    "display(clean_data[num_fields].describe())"
   ]
  },
  {
   "cell_type": "markdown",
   "id": "642171d5",
   "metadata": {},
   "source": [
    "## 2. Exploratory Data Analysis"
   ]
  },
  {
   "cell_type": "markdown",
   "id": "15f1924d",
   "metadata": {},
   "source": [
    "When working with data, it is important to have a better understanding of the content and some statistics. Provide an exploratory data analysis to describe the dataset you are working on in this project and explain the decisions made for the analysis. For example, word counting distribution, average sentence length, vocabulary size, ranking of products based on rating, price, discount, top sellers and brands, out_of_stock distribution, word clouds for the most frequent words, and entity recognition. Feel free to do the exploratory analysis and report your findings in the report."
   ]
  },
  {
   "cell_type": "code",
   "execution_count": 119,
   "id": "f6e5a057",
   "metadata": {},
   "outputs": [
    {
     "data": {
      "image/png": "[encoded data removed]",
      "text/plain": [
       "<Figure size 1500x800 with 2 Axes>"
      ]
     },
     "metadata": {},
     "output_type": "display_data"
    }
   ],
   "source": [
    "r = 25\n",
    "\n",
    "plt.figure(figsize=(15, 8))\n",
    "plt.subplot(1, 2, 1)\n",
    "tmp = pd.DataFrame(clean_data['description'].str.split().explode().value_counts().sort_values(ascending=False)).reset_index()\n",
    "sns.barplot(data=tmp[:r], y='description', x='count')\n",
    "plt.title('Top 25 most common \"description\" words')\n",
    "\n",
    "plt.subplot(1, 2, 2)\n",
    "tmp = pd.DataFrame(clean_data['title'].str.split().explode().value_counts().sort_values(ascending=False)).reset_index()\n",
    "sns.barplot(data=tmp[:r], y='title', x='count')\n",
    "plt.title('Top 25 most common \"title\" words')\n",
    "\n",
    "plt.show()"
   ]
  },
  {
   "cell_type": "code",
   "execution_count": 120,
   "id": "a7298598",
   "metadata": {},
   "outputs": [
    {
     "name": "stdout",
     "output_type": "stream",
     "text": [
      "Average sentence length: 17.93 words\n"
     ]
    }
   ],
   "source": [
    "print(f'Average sentence length: {clean_data['description'].apply(lambda x: len(x.split())).mean():.2f} words')"
   ]
  },
  {
   "cell_type": "code",
   "execution_count": 121,
   "id": "61688d00",
   "metadata": {},
   "outputs": [
    {
     "name": "stdout",
     "output_type": "stream",
     "text": [
      "Vocabulary size is 5446 words\n"
     ]
    }
   ],
   "source": [
    "print(f'Vocabulary size is {clean_data['description'].str.split().explode().nunique()} words') # only from description field"
   ]
  },
  {
   "cell_type": "code",
   "execution_count": 122,
   "id": "14077df1",
   "metadata": {},
   "outputs": [
    {
     "data": {
      "application/vnd.microsoft.datawrangler.viewer.v0+json": {
       "columns": [
        {
         "name": "index",
         "rawType": "object",
         "type": "string"
        },
        {
         "name": "missing",
         "rawType": "int64",
         "type": "integer"
        }
       ],
       "ref": "c00f8d62-1329-48b8-9440-6d32bdad071a",
       "rows": [
        [
         "average_rating",
         "2261"
        ],
        [
         "discount",
         "855"
        ],
        [
         "actual_price",
         "777"
        ],
        [
         "selling_price",
         "2"
        ],
        [
         "pid",
         "0"
        ],
        [
         "title",
         "0"
        ],
        [
         "description",
         "0"
        ],
        [
         "brand",
         "0"
        ],
        [
         "category",
         "0"
        ],
        [
         "sub_category",
         "0"
        ],
        [
         "product_details",
         "0"
        ],
        [
         "seller",
         "0"
        ],
        [
         "out_of_stock",
         "0"
        ],
        [
         "url",
         "0"
        ]
       ],
       "shape": {
        "columns": 1,
        "rows": 14
       }
      },
      "text/html": [
       "<div>\n",
       "<style scoped>\n",
       "    .dataframe tbody tr th:only-of-type {\n",
       "        vertical-align: middle;\n",
       "    }\n",
       "\n",
       "    .dataframe tbody tr th {\n",
       "        vertical-align: top;\n",
       "    }\n",
       "\n",
       "    .dataframe thead th {\n",
       "        text-align: right;\n",
       "    }\n",
       "</style>\n",
       "<table border=\"1\" class=\"dataframe\">\n",
       "  <thead>\n",
       "    <tr style=\"text-align: right;\">\n",
       "      <th></th>\n",
       "      <th>missing</th>\n",
       "    </tr>\n",
       "  </thead>\n",
       "  <tbody>\n",
       "    <tr>\n",
       "      <th>average_rating</th>\n",
       "      <td>2261</td>\n",
       "    </tr>\n",
       "    <tr>\n",
       "      <th>discount</th>\n",
       "      <td>855</td>\n",
       "    </tr>\n",
       "    <tr>\n",
       "      <th>actual_price</th>\n",
       "      <td>777</td>\n",
       "    </tr>\n",
       "    <tr>\n",
       "      <th>selling_price</th>\n",
       "      <td>2</td>\n",
       "    </tr>\n",
       "    <tr>\n",
       "      <th>pid</th>\n",
       "      <td>0</td>\n",
       "    </tr>\n",
       "    <tr>\n",
       "      <th>title</th>\n",
       "      <td>0</td>\n",
       "    </tr>\n",
       "    <tr>\n",
       "      <th>description</th>\n",
       "      <td>0</td>\n",
       "    </tr>\n",
       "    <tr>\n",
       "      <th>brand</th>\n",
       "      <td>0</td>\n",
       "    </tr>\n",
       "    <tr>\n",
       "      <th>category</th>\n",
       "      <td>0</td>\n",
       "    </tr>\n",
       "    <tr>\n",
       "      <th>sub_category</th>\n",
       "      <td>0</td>\n",
       "    </tr>\n",
       "    <tr>\n",
       "      <th>product_details</th>\n",
       "      <td>0</td>\n",
       "    </tr>\n",
       "    <tr>\n",
       "      <th>seller</th>\n",
       "      <td>0</td>\n",
       "    </tr>\n",
       "    <tr>\n",
       "      <th>out_of_stock</th>\n",
       "      <td>0</td>\n",
       "    </tr>\n",
       "    <tr>\n",
       "      <th>url</th>\n",
       "      <td>0</td>\n",
       "    </tr>\n",
       "  </tbody>\n",
       "</table>\n",
       "</div>"
      ],
      "text/plain": [
       "                 missing\n",
       "average_rating      2261\n",
       "discount             855\n",
       "actual_price         777\n",
       "selling_price          2\n",
       "pid                    0\n",
       "title                  0\n",
       "description            0\n",
       "brand                  0\n",
       "category               0\n",
       "sub_category           0\n",
       "product_details        0\n",
       "seller                 0\n",
       "out_of_stock           0\n",
       "url                    0"
      ]
     },
     "metadata": {},
     "output_type": "display_data"
    }
   ],
   "source": [
    "# Missing values per column\n",
    "missing = clean_data.isna().sum().sort_values(ascending=False)\n",
    "display(missing.to_frame(\"missing\"))\n"
   ]
  },
  {
   "cell_type": "code",
   "execution_count": 123,
   "id": "e7127fc1",
   "metadata": {},
   "outputs": [
    {
     "data": {
      "image/png": "[encoded data removed]",
      "text/plain": [
       "<Figure size 640x480 with 1 Axes>"
      ]
     },
     "metadata": {},
     "output_type": "display_data"
    }
   ],
   "source": [
    "# Different categories\n",
    "cats = clean_data[\"category\"].value_counts()\n",
    "plt.figure()\n",
    "cats.plot(kind=\"bar\")\n",
    "plt.title(\"Categories\")\n",
    "plt.xlabel(\"Category\")\n",
    "plt.ylabel(\"Count\")\n",
    "plt.tight_layout()\n",
    "plt.show()"
   ]
  },
  {
   "cell_type": "markdown",
   "id": "018b14df",
   "metadata": {},
   "source": [
    "#### Numeric columns"
   ]
  },
  {
   "cell_type": "code",
   "execution_count": 124,
   "id": "a3e017ed",
   "metadata": {},
   "outputs": [
    {
     "name": "stdout",
     "output_type": "stream",
     "text": [
      "Out of stock ratio: 5.85%\n"
     ]
    }
   ],
   "source": [
    "# Out of stock ratio\n",
    "ratio = (clean_data[\"out_of_stock\"] == 1).mean()\n",
    "print(f'Out of stock ratio: {ratio:.2%}')"
   ]
  },
  {
   "cell_type": "code",
   "execution_count": 125,
   "id": "c82581b0",
   "metadata": {},
   "outputs": [
    {
     "data": {
      "image/png": "[encoded data removed]",
      "text/plain": [
       "<Figure size 640x480 with 1 Axes>"
      ]
     },
     "metadata": {},
     "output_type": "display_data"
    },
    {
     "data": {
      "image/png": "[encoded data removed]",
      "text/plain": [
       "<Figure size 640x480 with 1 Axes>"
      ]
     },
     "metadata": {},
     "output_type": "display_data"
    },
    {
     "data": {
      "image/png": "[encoded data removed]",
      "text/plain": [
       "<Figure size 640x480 with 1 Axes>"
      ]
     },
     "metadata": {},
     "output_type": "display_data"
    },
    {
     "data": {
      "image/png": "[encoded data removed]",
      "text/plain": [
       "<Figure size 640x480 with 1 Axes>"
      ]
     },
     "metadata": {},
     "output_type": "display_data"
    }
   ],
   "source": [
    "# Distributions of numerical fields\n",
    "num_fields = ['selling_price', 'actual_price', 'discount', 'average_rating']\n",
    "\n",
    "for col in num_fields:\n",
    "    plt.figure()\n",
    "    clean_data[col].dropna().plot(kind='hist', bins=50, edgecolor='black', alpha=0.7)\n",
    "    plt.title(f'Distribution of {col}')\n",
    "    plt.xlabel(col)\n",
    "    plt.ylabel('Frequency')\n",
    "    plt.tight_layout()\n",
    "    plt.show()"
   ]
  },
  {
   "cell_type": "code",
   "execution_count": 128,
   "id": "02d8cae5",
   "metadata": {},
   "outputs": [
    {
     "data": {
      "image/png": "[encoded data removed]",
      "text/plain": [
       "<Figure size 640x480 with 2 Axes>"
      ]
     },
     "metadata": {},
     "output_type": "display_data"
    }
   ],
   "source": [
    "# Correlation heatmap\n",
    "corr = clean_data[num_fields].corr()\n",
    "\n",
    "plt.figure()\n",
    "plt.imshow(corr, interpolation=\"nearest\")\n",
    "plt.xticks(range(len(num_fields)), num_fields, rotation=45)\n",
    "plt.yticks(range(len(num_fields)), num_fields)\n",
    "plt.title(\"Correlation heatmap\")\n",
    "plt.colorbar()\n",
    "plt.tight_layout()\n",
    "plt.show()\n"
   ]
  },
  {
   "cell_type": "markdown",
   "id": "4b22e83f",
   "metadata": {},
   "source": [
    "### ESTO NO ME VA, NO ME DA TIEMPO A MIRAR PORQUE"
   ]
  },
  {
   "cell_type": "code",
   "execution_count": 127,
   "id": "c13ea379",
   "metadata": {},
   "outputs": [
    {
     "ename": "TypeError",
     "evalue": "agg function failed [how->mean,dtype->object]",
     "output_type": "error",
     "traceback": [
      "\u001b[1;31m---------------------------------------------------------------------------\u001b[0m",
      "\u001b[1;31mTypeError\u001b[0m                                 Traceback (most recent call last)",
      "File \u001b[1;32mc:\\Users\\pdpau\\AppData\\Local\\Programs\\Python\\Python312\\Lib\\site-packages\\pandas\\core\\groupby\\groupby.py:1942\u001b[0m, in \u001b[0;36mGroupBy._agg_py_fallback\u001b[1;34m(self, how, values, ndim, alt)\u001b[0m\n\u001b[0;32m   1941\u001b[0m \u001b[38;5;28;01mtry\u001b[39;00m:\n\u001b[1;32m-> 1942\u001b[0m     res_values \u001b[38;5;241m=\u001b[39m \u001b[38;5;28;43mself\u001b[39;49m\u001b[38;5;241;43m.\u001b[39;49m\u001b[43m_grouper\u001b[49m\u001b[38;5;241;43m.\u001b[39;49m\u001b[43magg_series\u001b[49m\u001b[43m(\u001b[49m\u001b[43mser\u001b[49m\u001b[43m,\u001b[49m\u001b[43m \u001b[49m\u001b[43malt\u001b[49m\u001b[43m,\u001b[49m\u001b[43m \u001b[49m\u001b[43mpreserve_dtype\u001b[49m\u001b[38;5;241;43m=\u001b[39;49m\u001b[38;5;28;43;01mTrue\u001b[39;49;00m\u001b[43m)\u001b[49m\n\u001b[0;32m   1943\u001b[0m \u001b[38;5;28;01mexcept\u001b[39;00m \u001b[38;5;167;01mException\u001b[39;00m \u001b[38;5;28;01mas\u001b[39;00m err:\n",
      "File \u001b[1;32mc:\\Users\\pdpau\\AppData\\Local\\Programs\\Python\\Python312\\Lib\\site-packages\\pandas\\core\\groupby\\ops.py:864\u001b[0m, in \u001b[0;36mBaseGrouper.agg_series\u001b[1;34m(self, obj, func, preserve_dtype)\u001b[0m\n\u001b[0;32m    862\u001b[0m     preserve_dtype \u001b[38;5;241m=\u001b[39m \u001b[38;5;28;01mTrue\u001b[39;00m\n\u001b[1;32m--> 864\u001b[0m result \u001b[38;5;241m=\u001b[39m \u001b[38;5;28;43mself\u001b[39;49m\u001b[38;5;241;43m.\u001b[39;49m\u001b[43m_aggregate_series_pure_python\u001b[49m\u001b[43m(\u001b[49m\u001b[43mobj\u001b[49m\u001b[43m,\u001b[49m\u001b[43m \u001b[49m\u001b[43mfunc\u001b[49m\u001b[43m)\u001b[49m\n\u001b[0;32m    866\u001b[0m npvalues \u001b[38;5;241m=\u001b[39m lib\u001b[38;5;241m.\u001b[39mmaybe_convert_objects(result, try_float\u001b[38;5;241m=\u001b[39m\u001b[38;5;28;01mFalse\u001b[39;00m)\n",
      "File \u001b[1;32mc:\\Users\\pdpau\\AppData\\Local\\Programs\\Python\\Python312\\Lib\\site-packages\\pandas\\core\\groupby\\ops.py:885\u001b[0m, in \u001b[0;36mBaseGrouper._aggregate_series_pure_python\u001b[1;34m(self, obj, func)\u001b[0m\n\u001b[0;32m    884\u001b[0m \u001b[38;5;28;01mfor\u001b[39;00m i, group \u001b[38;5;129;01min\u001b[39;00m \u001b[38;5;28menumerate\u001b[39m(splitter):\n\u001b[1;32m--> 885\u001b[0m     res \u001b[38;5;241m=\u001b[39m \u001b[43mfunc\u001b[49m\u001b[43m(\u001b[49m\u001b[43mgroup\u001b[49m\u001b[43m)\u001b[49m\n\u001b[0;32m    886\u001b[0m     res \u001b[38;5;241m=\u001b[39m extract_result(res)\n",
      "File \u001b[1;32mc:\\Users\\pdpau\\AppData\\Local\\Programs\\Python\\Python312\\Lib\\site-packages\\pandas\\core\\groupby\\groupby.py:2454\u001b[0m, in \u001b[0;36mGroupBy.mean.<locals>.<lambda>\u001b[1;34m(x)\u001b[0m\n\u001b[0;32m   2451\u001b[0m \u001b[38;5;28;01melse\u001b[39;00m:\n\u001b[0;32m   2452\u001b[0m     result \u001b[38;5;241m=\u001b[39m \u001b[38;5;28mself\u001b[39m\u001b[38;5;241m.\u001b[39m_cython_agg_general(\n\u001b[0;32m   2453\u001b[0m         \u001b[38;5;124m\"\u001b[39m\u001b[38;5;124mmean\u001b[39m\u001b[38;5;124m\"\u001b[39m,\n\u001b[1;32m-> 2454\u001b[0m         alt\u001b[38;5;241m=\u001b[39m\u001b[38;5;28;01mlambda\u001b[39;00m x: \u001b[43mSeries\u001b[49m\u001b[43m(\u001b[49m\u001b[43mx\u001b[49m\u001b[43m,\u001b[49m\u001b[43m \u001b[49m\u001b[43mcopy\u001b[49m\u001b[38;5;241;43m=\u001b[39;49m\u001b[38;5;28;43;01mFalse\u001b[39;49;00m\u001b[43m)\u001b[49m\u001b[38;5;241;43m.\u001b[39;49m\u001b[43mmean\u001b[49m\u001b[43m(\u001b[49m\u001b[43mnumeric_only\u001b[49m\u001b[38;5;241;43m=\u001b[39;49m\u001b[43mnumeric_only\u001b[49m\u001b[43m)\u001b[49m,\n\u001b[0;32m   2455\u001b[0m         numeric_only\u001b[38;5;241m=\u001b[39mnumeric_only,\n\u001b[0;32m   2456\u001b[0m     )\n\u001b[0;32m   2457\u001b[0m     \u001b[38;5;28;01mreturn\u001b[39;00m result\u001b[38;5;241m.\u001b[39m__finalize__(\u001b[38;5;28mself\u001b[39m\u001b[38;5;241m.\u001b[39mobj, method\u001b[38;5;241m=\u001b[39m\u001b[38;5;124m\"\u001b[39m\u001b[38;5;124mgroupby\u001b[39m\u001b[38;5;124m\"\u001b[39m)\n",
      "File \u001b[1;32mc:\\Users\\pdpau\\AppData\\Local\\Programs\\Python\\Python312\\Lib\\site-packages\\pandas\\core\\series.py:6549\u001b[0m, in \u001b[0;36mSeries.mean\u001b[1;34m(self, axis, skipna, numeric_only, **kwargs)\u001b[0m\n\u001b[0;32m   6541\u001b[0m \u001b[38;5;129m@doc\u001b[39m(make_doc(\u001b[38;5;124m\"\u001b[39m\u001b[38;5;124mmean\u001b[39m\u001b[38;5;124m\"\u001b[39m, ndim\u001b[38;5;241m=\u001b[39m\u001b[38;5;241m1\u001b[39m))\n\u001b[0;32m   6542\u001b[0m \u001b[38;5;28;01mdef\u001b[39;00m \u001b[38;5;21mmean\u001b[39m(\n\u001b[0;32m   6543\u001b[0m     \u001b[38;5;28mself\u001b[39m,\n\u001b[1;32m   (...)\u001b[0m\n\u001b[0;32m   6547\u001b[0m     \u001b[38;5;241m*\u001b[39m\u001b[38;5;241m*\u001b[39mkwargs,\n\u001b[0;32m   6548\u001b[0m ):\n\u001b[1;32m-> 6549\u001b[0m     \u001b[38;5;28;01mreturn\u001b[39;00m \u001b[43mNDFrame\u001b[49m\u001b[38;5;241;43m.\u001b[39;49m\u001b[43mmean\u001b[49m\u001b[43m(\u001b[49m\u001b[38;5;28;43mself\u001b[39;49m\u001b[43m,\u001b[49m\u001b[43m \u001b[49m\u001b[43maxis\u001b[49m\u001b[43m,\u001b[49m\u001b[43m \u001b[49m\u001b[43mskipna\u001b[49m\u001b[43m,\u001b[49m\u001b[43m \u001b[49m\u001b[43mnumeric_only\u001b[49m\u001b[43m,\u001b[49m\u001b[43m \u001b[49m\u001b[38;5;241;43m*\u001b[39;49m\u001b[38;5;241;43m*\u001b[39;49m\u001b[43mkwargs\u001b[49m\u001b[43m)\u001b[49m\n",
      "File \u001b[1;32mc:\\Users\\pdpau\\AppData\\Local\\Programs\\Python\\Python312\\Lib\\site-packages\\pandas\\core\\generic.py:12420\u001b[0m, in \u001b[0;36mNDFrame.mean\u001b[1;34m(self, axis, skipna, numeric_only, **kwargs)\u001b[0m\n\u001b[0;32m  12413\u001b[0m \u001b[38;5;28;01mdef\u001b[39;00m \u001b[38;5;21mmean\u001b[39m(\n\u001b[0;32m  12414\u001b[0m     \u001b[38;5;28mself\u001b[39m,\n\u001b[0;32m  12415\u001b[0m     axis: Axis \u001b[38;5;241m|\u001b[39m \u001b[38;5;28;01mNone\u001b[39;00m \u001b[38;5;241m=\u001b[39m \u001b[38;5;241m0\u001b[39m,\n\u001b[1;32m   (...)\u001b[0m\n\u001b[0;32m  12418\u001b[0m     \u001b[38;5;241m*\u001b[39m\u001b[38;5;241m*\u001b[39mkwargs,\n\u001b[0;32m  12419\u001b[0m ) \u001b[38;5;241m-\u001b[39m\u001b[38;5;241m>\u001b[39m Series \u001b[38;5;241m|\u001b[39m \u001b[38;5;28mfloat\u001b[39m:\n\u001b[1;32m> 12420\u001b[0m     \u001b[38;5;28;01mreturn\u001b[39;00m \u001b[38;5;28;43mself\u001b[39;49m\u001b[38;5;241;43m.\u001b[39;49m\u001b[43m_stat_function\u001b[49m\u001b[43m(\u001b[49m\n\u001b[0;32m  12421\u001b[0m \u001b[43m        \u001b[49m\u001b[38;5;124;43m\"\u001b[39;49m\u001b[38;5;124;43mmean\u001b[39;49m\u001b[38;5;124;43m\"\u001b[39;49m\u001b[43m,\u001b[49m\u001b[43m \u001b[49m\u001b[43mnanops\u001b[49m\u001b[38;5;241;43m.\u001b[39;49m\u001b[43mnanmean\u001b[49m\u001b[43m,\u001b[49m\u001b[43m \u001b[49m\u001b[43maxis\u001b[49m\u001b[43m,\u001b[49m\u001b[43m \u001b[49m\u001b[43mskipna\u001b[49m\u001b[43m,\u001b[49m\u001b[43m \u001b[49m\u001b[43mnumeric_only\u001b[49m\u001b[43m,\u001b[49m\u001b[43m \u001b[49m\u001b[38;5;241;43m*\u001b[39;49m\u001b[38;5;241;43m*\u001b[39;49m\u001b[43mkwargs\u001b[49m\n\u001b[0;32m  12422\u001b[0m \u001b[43m    \u001b[49m\u001b[43m)\u001b[49m\n",
      "File \u001b[1;32mc:\\Users\\pdpau\\AppData\\Local\\Programs\\Python\\Python312\\Lib\\site-packages\\pandas\\core\\generic.py:12377\u001b[0m, in \u001b[0;36mNDFrame._stat_function\u001b[1;34m(self, name, func, axis, skipna, numeric_only, **kwargs)\u001b[0m\n\u001b[0;32m  12375\u001b[0m validate_bool_kwarg(skipna, \u001b[38;5;124m\"\u001b[39m\u001b[38;5;124mskipna\u001b[39m\u001b[38;5;124m\"\u001b[39m, none_allowed\u001b[38;5;241m=\u001b[39m\u001b[38;5;28;01mFalse\u001b[39;00m)\n\u001b[1;32m> 12377\u001b[0m \u001b[38;5;28;01mreturn\u001b[39;00m \u001b[38;5;28;43mself\u001b[39;49m\u001b[38;5;241;43m.\u001b[39;49m\u001b[43m_reduce\u001b[49m\u001b[43m(\u001b[49m\n\u001b[0;32m  12378\u001b[0m \u001b[43m    \u001b[49m\u001b[43mfunc\u001b[49m\u001b[43m,\u001b[49m\u001b[43m \u001b[49m\u001b[43mname\u001b[49m\u001b[38;5;241;43m=\u001b[39;49m\u001b[43mname\u001b[49m\u001b[43m,\u001b[49m\u001b[43m \u001b[49m\u001b[43maxis\u001b[49m\u001b[38;5;241;43m=\u001b[39;49m\u001b[43maxis\u001b[49m\u001b[43m,\u001b[49m\u001b[43m \u001b[49m\u001b[43mskipna\u001b[49m\u001b[38;5;241;43m=\u001b[39;49m\u001b[43mskipna\u001b[49m\u001b[43m,\u001b[49m\u001b[43m \u001b[49m\u001b[43mnumeric_only\u001b[49m\u001b[38;5;241;43m=\u001b[39;49m\u001b[43mnumeric_only\u001b[49m\n\u001b[0;32m  12379\u001b[0m \u001b[43m\u001b[49m\u001b[43m)\u001b[49m\n",
      "File \u001b[1;32mc:\\Users\\pdpau\\AppData\\Local\\Programs\\Python\\Python312\\Lib\\site-packages\\pandas\\core\\series.py:6457\u001b[0m, in \u001b[0;36mSeries._reduce\u001b[1;34m(self, op, name, axis, skipna, numeric_only, filter_type, **kwds)\u001b[0m\n\u001b[0;32m   6453\u001b[0m     \u001b[38;5;28;01mraise\u001b[39;00m \u001b[38;5;167;01mTypeError\u001b[39;00m(\n\u001b[0;32m   6454\u001b[0m         \u001b[38;5;124mf\u001b[39m\u001b[38;5;124m\"\u001b[39m\u001b[38;5;124mSeries.\u001b[39m\u001b[38;5;132;01m{\u001b[39;00mname\u001b[38;5;132;01m}\u001b[39;00m\u001b[38;5;124m does not allow \u001b[39m\u001b[38;5;132;01m{\u001b[39;00mkwd_name\u001b[38;5;132;01m}\u001b[39;00m\u001b[38;5;124m=\u001b[39m\u001b[38;5;132;01m{\u001b[39;00mnumeric_only\u001b[38;5;132;01m}\u001b[39;00m\u001b[38;5;124m \u001b[39m\u001b[38;5;124m\"\u001b[39m\n\u001b[0;32m   6455\u001b[0m         \u001b[38;5;124m\"\u001b[39m\u001b[38;5;124mwith non-numeric dtypes.\u001b[39m\u001b[38;5;124m\"\u001b[39m\n\u001b[0;32m   6456\u001b[0m     )\n\u001b[1;32m-> 6457\u001b[0m \u001b[38;5;28;01mreturn\u001b[39;00m \u001b[43mop\u001b[49m\u001b[43m(\u001b[49m\u001b[43mdelegate\u001b[49m\u001b[43m,\u001b[49m\u001b[43m \u001b[49m\u001b[43mskipna\u001b[49m\u001b[38;5;241;43m=\u001b[39;49m\u001b[43mskipna\u001b[49m\u001b[43m,\u001b[49m\u001b[43m \u001b[49m\u001b[38;5;241;43m*\u001b[39;49m\u001b[38;5;241;43m*\u001b[39;49m\u001b[43mkwds\u001b[49m\u001b[43m)\u001b[49m\n",
      "File \u001b[1;32mc:\\Users\\pdpau\\AppData\\Local\\Programs\\Python\\Python312\\Lib\\site-packages\\pandas\\core\\nanops.py:147\u001b[0m, in \u001b[0;36mbottleneck_switch.__call__.<locals>.f\u001b[1;34m(values, axis, skipna, **kwds)\u001b[0m\n\u001b[0;32m    146\u001b[0m \u001b[38;5;28;01melse\u001b[39;00m:\n\u001b[1;32m--> 147\u001b[0m     result \u001b[38;5;241m=\u001b[39m \u001b[43malt\u001b[49m\u001b[43m(\u001b[49m\u001b[43mvalues\u001b[49m\u001b[43m,\u001b[49m\u001b[43m \u001b[49m\u001b[43maxis\u001b[49m\u001b[38;5;241;43m=\u001b[39;49m\u001b[43maxis\u001b[49m\u001b[43m,\u001b[49m\u001b[43m \u001b[49m\u001b[43mskipna\u001b[49m\u001b[38;5;241;43m=\u001b[39;49m\u001b[43mskipna\u001b[49m\u001b[43m,\u001b[49m\u001b[43m \u001b[49m\u001b[38;5;241;43m*\u001b[39;49m\u001b[38;5;241;43m*\u001b[39;49m\u001b[43mkwds\u001b[49m\u001b[43m)\u001b[49m\n\u001b[0;32m    149\u001b[0m \u001b[38;5;28;01mreturn\u001b[39;00m result\n",
      "File \u001b[1;32mc:\\Users\\pdpau\\AppData\\Local\\Programs\\Python\\Python312\\Lib\\site-packages\\pandas\\core\\nanops.py:404\u001b[0m, in \u001b[0;36m_datetimelike_compat.<locals>.new_func\u001b[1;34m(values, axis, skipna, mask, **kwargs)\u001b[0m\n\u001b[0;32m    402\u001b[0m     mask \u001b[38;5;241m=\u001b[39m isna(values)\n\u001b[1;32m--> 404\u001b[0m result \u001b[38;5;241m=\u001b[39m \u001b[43mfunc\u001b[49m\u001b[43m(\u001b[49m\u001b[43mvalues\u001b[49m\u001b[43m,\u001b[49m\u001b[43m \u001b[49m\u001b[43maxis\u001b[49m\u001b[38;5;241;43m=\u001b[39;49m\u001b[43maxis\u001b[49m\u001b[43m,\u001b[49m\u001b[43m \u001b[49m\u001b[43mskipna\u001b[49m\u001b[38;5;241;43m=\u001b[39;49m\u001b[43mskipna\u001b[49m\u001b[43m,\u001b[49m\u001b[43m \u001b[49m\u001b[43mmask\u001b[49m\u001b[38;5;241;43m=\u001b[39;49m\u001b[43mmask\u001b[49m\u001b[43m,\u001b[49m\u001b[43m \u001b[49m\u001b[38;5;241;43m*\u001b[39;49m\u001b[38;5;241;43m*\u001b[39;49m\u001b[43mkwargs\u001b[49m\u001b[43m)\u001b[49m\n\u001b[0;32m    406\u001b[0m \u001b[38;5;28;01mif\u001b[39;00m datetimelike:\n",
      "File \u001b[1;32mc:\\Users\\pdpau\\AppData\\Local\\Programs\\Python\\Python312\\Lib\\site-packages\\pandas\\core\\nanops.py:720\u001b[0m, in \u001b[0;36mnanmean\u001b[1;34m(values, axis, skipna, mask)\u001b[0m\n\u001b[0;32m    719\u001b[0m the_sum \u001b[38;5;241m=\u001b[39m values\u001b[38;5;241m.\u001b[39msum(axis, dtype\u001b[38;5;241m=\u001b[39mdtype_sum)\n\u001b[1;32m--> 720\u001b[0m the_sum \u001b[38;5;241m=\u001b[39m \u001b[43m_ensure_numeric\u001b[49m\u001b[43m(\u001b[49m\u001b[43mthe_sum\u001b[49m\u001b[43m)\u001b[49m\n\u001b[0;32m    722\u001b[0m \u001b[38;5;28;01mif\u001b[39;00m axis \u001b[38;5;129;01mis\u001b[39;00m \u001b[38;5;129;01mnot\u001b[39;00m \u001b[38;5;28;01mNone\u001b[39;00m \u001b[38;5;129;01mand\u001b[39;00m \u001b[38;5;28mgetattr\u001b[39m(the_sum, \u001b[38;5;124m\"\u001b[39m\u001b[38;5;124mndim\u001b[39m\u001b[38;5;124m\"\u001b[39m, \u001b[38;5;28;01mFalse\u001b[39;00m):\n",
      "File \u001b[1;32mc:\\Users\\pdpau\\AppData\\Local\\Programs\\Python\\Python312\\Lib\\site-packages\\pandas\\core\\nanops.py:1701\u001b[0m, in \u001b[0;36m_ensure_numeric\u001b[1;34m(x)\u001b[0m\n\u001b[0;32m   1699\u001b[0m \u001b[38;5;28;01mif\u001b[39;00m \u001b[38;5;28misinstance\u001b[39m(x, \u001b[38;5;28mstr\u001b[39m):\n\u001b[0;32m   1700\u001b[0m     \u001b[38;5;66;03m# GH#44008, GH#36703 avoid casting e.g. strings to numeric\u001b[39;00m\n\u001b[1;32m-> 1701\u001b[0m     \u001b[38;5;28;01mraise\u001b[39;00m \u001b[38;5;167;01mTypeError\u001b[39;00m(\u001b[38;5;124mf\u001b[39m\u001b[38;5;124m\"\u001b[39m\u001b[38;5;124mCould not convert string \u001b[39m\u001b[38;5;124m'\u001b[39m\u001b[38;5;132;01m{\u001b[39;00mx\u001b[38;5;132;01m}\u001b[39;00m\u001b[38;5;124m'\u001b[39m\u001b[38;5;124m to numeric\u001b[39m\u001b[38;5;124m\"\u001b[39m)\n\u001b[0;32m   1702\u001b[0m \u001b[38;5;28;01mtry\u001b[39;00m:\n",
      "\u001b[1;31mTypeError\u001b[0m: Could not convert string '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' to numeric",
      "\nThe above exception was the direct cause of the following exception:\n",
      "\u001b[1;31mTypeError\u001b[0m                                 Traceback (most recent call last)",
      "Cell \u001b[1;32mIn[127], line 1\u001b[0m\n\u001b[1;32m----> 1\u001b[0m \u001b[43mclean_data\u001b[49m\u001b[38;5;241;43m.\u001b[39;49m\u001b[43mgroupby\u001b[49m\u001b[43m(\u001b[49m\u001b[38;5;124;43m'\u001b[39;49m\u001b[38;5;124;43mbrand\u001b[39;49m\u001b[38;5;124;43m'\u001b[39;49m\u001b[43m)\u001b[49m\u001b[38;5;241;43m.\u001b[39;49m\u001b[43mmean\u001b[49m\u001b[43m(\u001b[49m\u001b[43m)\u001b[49m\n",
      "File \u001b[1;32mc:\\Users\\pdpau\\AppData\\Local\\Programs\\Python\\Python312\\Lib\\site-packages\\pandas\\core\\groupby\\groupby.py:2452\u001b[0m, in \u001b[0;36mGroupBy.mean\u001b[1;34m(self, numeric_only, engine, engine_kwargs)\u001b[0m\n\u001b[0;32m   2445\u001b[0m     \u001b[38;5;28;01mreturn\u001b[39;00m \u001b[38;5;28mself\u001b[39m\u001b[38;5;241m.\u001b[39m_numba_agg_general(\n\u001b[0;32m   2446\u001b[0m         grouped_mean,\n\u001b[0;32m   2447\u001b[0m         executor\u001b[38;5;241m.\u001b[39mfloat_dtype_mapping,\n\u001b[0;32m   2448\u001b[0m         engine_kwargs,\n\u001b[0;32m   2449\u001b[0m         min_periods\u001b[38;5;241m=\u001b[39m\u001b[38;5;241m0\u001b[39m,\n\u001b[0;32m   2450\u001b[0m     )\n\u001b[0;32m   2451\u001b[0m \u001b[38;5;28;01melse\u001b[39;00m:\n\u001b[1;32m-> 2452\u001b[0m     result \u001b[38;5;241m=\u001b[39m \u001b[38;5;28;43mself\u001b[39;49m\u001b[38;5;241;43m.\u001b[39;49m\u001b[43m_cython_agg_general\u001b[49m\u001b[43m(\u001b[49m\n\u001b[0;32m   2453\u001b[0m \u001b[43m        \u001b[49m\u001b[38;5;124;43m\"\u001b[39;49m\u001b[38;5;124;43mmean\u001b[39;49m\u001b[38;5;124;43m\"\u001b[39;49m\u001b[43m,\u001b[49m\n\u001b[0;32m   2454\u001b[0m \u001b[43m        \u001b[49m\u001b[43malt\u001b[49m\u001b[38;5;241;43m=\u001b[39;49m\u001b[38;5;28;43;01mlambda\u001b[39;49;00m\u001b[43m \u001b[49m\u001b[43mx\u001b[49m\u001b[43m:\u001b[49m\u001b[43m \u001b[49m\u001b[43mSeries\u001b[49m\u001b[43m(\u001b[49m\u001b[43mx\u001b[49m\u001b[43m,\u001b[49m\u001b[43m \u001b[49m\u001b[43mcopy\u001b[49m\u001b[38;5;241;43m=\u001b[39;49m\u001b[38;5;28;43;01mFalse\u001b[39;49;00m\u001b[43m)\u001b[49m\u001b[38;5;241;43m.\u001b[39;49m\u001b[43mmean\u001b[49m\u001b[43m(\u001b[49m\u001b[43mnumeric_only\u001b[49m\u001b[38;5;241;43m=\u001b[39;49m\u001b[43mnumeric_only\u001b[49m\u001b[43m)\u001b[49m\u001b[43m,\u001b[49m\n\u001b[0;32m   2455\u001b[0m \u001b[43m        \u001b[49m\u001b[43mnumeric_only\u001b[49m\u001b[38;5;241;43m=\u001b[39;49m\u001b[43mnumeric_only\u001b[49m\u001b[43m,\u001b[49m\n\u001b[0;32m   2456\u001b[0m \u001b[43m    \u001b[49m\u001b[43m)\u001b[49m\n\u001b[0;32m   2457\u001b[0m     \u001b[38;5;28;01mreturn\u001b[39;00m result\u001b[38;5;241m.\u001b[39m__finalize__(\u001b[38;5;28mself\u001b[39m\u001b[38;5;241m.\u001b[39mobj, method\u001b[38;5;241m=\u001b[39m\u001b[38;5;124m\"\u001b[39m\u001b[38;5;124mgroupby\u001b[39m\u001b[38;5;124m\"\u001b[39m)\n",
      "File \u001b[1;32mc:\\Users\\pdpau\\AppData\\Local\\Programs\\Python\\Python312\\Lib\\site-packages\\pandas\\core\\groupby\\groupby.py:1998\u001b[0m, in \u001b[0;36mGroupBy._cython_agg_general\u001b[1;34m(self, how, alt, numeric_only, min_count, **kwargs)\u001b[0m\n\u001b[0;32m   1995\u001b[0m     result \u001b[38;5;241m=\u001b[39m \u001b[38;5;28mself\u001b[39m\u001b[38;5;241m.\u001b[39m_agg_py_fallback(how, values, ndim\u001b[38;5;241m=\u001b[39mdata\u001b[38;5;241m.\u001b[39mndim, alt\u001b[38;5;241m=\u001b[39malt)\n\u001b[0;32m   1996\u001b[0m     \u001b[38;5;28;01mreturn\u001b[39;00m result\n\u001b[1;32m-> 1998\u001b[0m new_mgr \u001b[38;5;241m=\u001b[39m \u001b[43mdata\u001b[49m\u001b[38;5;241;43m.\u001b[39;49m\u001b[43mgrouped_reduce\u001b[49m\u001b[43m(\u001b[49m\u001b[43marray_func\u001b[49m\u001b[43m)\u001b[49m\n\u001b[0;32m   1999\u001b[0m res \u001b[38;5;241m=\u001b[39m \u001b[38;5;28mself\u001b[39m\u001b[38;5;241m.\u001b[39m_wrap_agged_manager(new_mgr)\n\u001b[0;32m   2000\u001b[0m \u001b[38;5;28;01mif\u001b[39;00m how \u001b[38;5;129;01min\u001b[39;00m [\u001b[38;5;124m\"\u001b[39m\u001b[38;5;124midxmin\u001b[39m\u001b[38;5;124m\"\u001b[39m, \u001b[38;5;124m\"\u001b[39m\u001b[38;5;124midxmax\u001b[39m\u001b[38;5;124m\"\u001b[39m]:\n",
      "File \u001b[1;32mc:\\Users\\pdpau\\AppData\\Local\\Programs\\Python\\Python312\\Lib\\site-packages\\pandas\\core\\internals\\managers.py:1469\u001b[0m, in \u001b[0;36mBlockManager.grouped_reduce\u001b[1;34m(self, func)\u001b[0m\n\u001b[0;32m   1465\u001b[0m \u001b[38;5;28;01mif\u001b[39;00m blk\u001b[38;5;241m.\u001b[39mis_object:\n\u001b[0;32m   1466\u001b[0m     \u001b[38;5;66;03m# split on object-dtype blocks bc some columns may raise\u001b[39;00m\n\u001b[0;32m   1467\u001b[0m     \u001b[38;5;66;03m#  while others do not.\u001b[39;00m\n\u001b[0;32m   1468\u001b[0m     \u001b[38;5;28;01mfor\u001b[39;00m sb \u001b[38;5;129;01min\u001b[39;00m blk\u001b[38;5;241m.\u001b[39m_split():\n\u001b[1;32m-> 1469\u001b[0m         applied \u001b[38;5;241m=\u001b[39m \u001b[43msb\u001b[49m\u001b[38;5;241;43m.\u001b[39;49m\u001b[43mapply\u001b[49m\u001b[43m(\u001b[49m\u001b[43mfunc\u001b[49m\u001b[43m)\u001b[49m\n\u001b[0;32m   1470\u001b[0m         result_blocks \u001b[38;5;241m=\u001b[39m extend_blocks(applied, result_blocks)\n\u001b[0;32m   1471\u001b[0m \u001b[38;5;28;01melse\u001b[39;00m:\n",
      "File \u001b[1;32mc:\\Users\\pdpau\\AppData\\Local\\Programs\\Python\\Python312\\Lib\\site-packages\\pandas\\core\\internals\\blocks.py:393\u001b[0m, in \u001b[0;36mBlock.apply\u001b[1;34m(self, func, **kwargs)\u001b[0m\n\u001b[0;32m    387\u001b[0m \u001b[38;5;129m@final\u001b[39m\n\u001b[0;32m    388\u001b[0m \u001b[38;5;28;01mdef\u001b[39;00m \u001b[38;5;21mapply\u001b[39m(\u001b[38;5;28mself\u001b[39m, func, \u001b[38;5;241m*\u001b[39m\u001b[38;5;241m*\u001b[39mkwargs) \u001b[38;5;241m-\u001b[39m\u001b[38;5;241m>\u001b[39m \u001b[38;5;28mlist\u001b[39m[Block]:\n\u001b[0;32m    389\u001b[0m \u001b[38;5;250m    \u001b[39m\u001b[38;5;124;03m\"\"\"\u001b[39;00m\n\u001b[0;32m    390\u001b[0m \u001b[38;5;124;03m    apply the function to my values; return a block if we are not\u001b[39;00m\n\u001b[0;32m    391\u001b[0m \u001b[38;5;124;03m    one\u001b[39;00m\n\u001b[0;32m    392\u001b[0m \u001b[38;5;124;03m    \"\"\"\u001b[39;00m\n\u001b[1;32m--> 393\u001b[0m     result \u001b[38;5;241m=\u001b[39m \u001b[43mfunc\u001b[49m\u001b[43m(\u001b[49m\u001b[38;5;28;43mself\u001b[39;49m\u001b[38;5;241;43m.\u001b[39;49m\u001b[43mvalues\u001b[49m\u001b[43m,\u001b[49m\u001b[43m \u001b[49m\u001b[38;5;241;43m*\u001b[39;49m\u001b[38;5;241;43m*\u001b[39;49m\u001b[43mkwargs\u001b[49m\u001b[43m)\u001b[49m\n\u001b[0;32m    395\u001b[0m     result \u001b[38;5;241m=\u001b[39m maybe_coerce_values(result)\n\u001b[0;32m    396\u001b[0m     \u001b[38;5;28;01mreturn\u001b[39;00m \u001b[38;5;28mself\u001b[39m\u001b[38;5;241m.\u001b[39m_split_op_result(result)\n",
      "File \u001b[1;32mc:\\Users\\pdpau\\AppData\\Local\\Programs\\Python\\Python312\\Lib\\site-packages\\pandas\\core\\groupby\\groupby.py:1995\u001b[0m, in \u001b[0;36mGroupBy._cython_agg_general.<locals>.array_func\u001b[1;34m(values)\u001b[0m\n\u001b[0;32m   1992\u001b[0m     \u001b[38;5;28;01mreturn\u001b[39;00m result\n\u001b[0;32m   1994\u001b[0m \u001b[38;5;28;01massert\u001b[39;00m alt \u001b[38;5;129;01mis\u001b[39;00m \u001b[38;5;129;01mnot\u001b[39;00m \u001b[38;5;28;01mNone\u001b[39;00m\n\u001b[1;32m-> 1995\u001b[0m result \u001b[38;5;241m=\u001b[39m \u001b[38;5;28;43mself\u001b[39;49m\u001b[38;5;241;43m.\u001b[39;49m\u001b[43m_agg_py_fallback\u001b[49m\u001b[43m(\u001b[49m\u001b[43mhow\u001b[49m\u001b[43m,\u001b[49m\u001b[43m \u001b[49m\u001b[43mvalues\u001b[49m\u001b[43m,\u001b[49m\u001b[43m \u001b[49m\u001b[43mndim\u001b[49m\u001b[38;5;241;43m=\u001b[39;49m\u001b[43mdata\u001b[49m\u001b[38;5;241;43m.\u001b[39;49m\u001b[43mndim\u001b[49m\u001b[43m,\u001b[49m\u001b[43m \u001b[49m\u001b[43malt\u001b[49m\u001b[38;5;241;43m=\u001b[39;49m\u001b[43malt\u001b[49m\u001b[43m)\u001b[49m\n\u001b[0;32m   1996\u001b[0m \u001b[38;5;28;01mreturn\u001b[39;00m result\n",
      "File \u001b[1;32mc:\\Users\\pdpau\\AppData\\Local\\Programs\\Python\\Python312\\Lib\\site-packages\\pandas\\core\\groupby\\groupby.py:1946\u001b[0m, in \u001b[0;36mGroupBy._agg_py_fallback\u001b[1;34m(self, how, values, ndim, alt)\u001b[0m\n\u001b[0;32m   1944\u001b[0m     msg \u001b[38;5;241m=\u001b[39m \u001b[38;5;124mf\u001b[39m\u001b[38;5;124m\"\u001b[39m\u001b[38;5;124magg function failed [how->\u001b[39m\u001b[38;5;132;01m{\u001b[39;00mhow\u001b[38;5;132;01m}\u001b[39;00m\u001b[38;5;124m,dtype->\u001b[39m\u001b[38;5;132;01m{\u001b[39;00mser\u001b[38;5;241m.\u001b[39mdtype\u001b[38;5;132;01m}\u001b[39;00m\u001b[38;5;124m]\u001b[39m\u001b[38;5;124m\"\u001b[39m\n\u001b[0;32m   1945\u001b[0m     \u001b[38;5;66;03m# preserve the kind of exception that raised\u001b[39;00m\n\u001b[1;32m-> 1946\u001b[0m     \u001b[38;5;28;01mraise\u001b[39;00m \u001b[38;5;28mtype\u001b[39m(err)(msg) \u001b[38;5;28;01mfrom\u001b[39;00m \u001b[38;5;21;01merr\u001b[39;00m\n\u001b[0;32m   1948\u001b[0m \u001b[38;5;28;01mif\u001b[39;00m ser\u001b[38;5;241m.\u001b[39mdtype \u001b[38;5;241m==\u001b[39m \u001b[38;5;28mobject\u001b[39m:\n\u001b[0;32m   1949\u001b[0m     res_values \u001b[38;5;241m=\u001b[39m res_values\u001b[38;5;241m.\u001b[39mastype(\u001b[38;5;28mobject\u001b[39m, copy\u001b[38;5;241m=\u001b[39m\u001b[38;5;28;01mFalse\u001b[39;00m)\n",
      "\u001b[1;31mTypeError\u001b[0m: agg function failed [how->mean,dtype->object]"
     ]
    }
   ],
   "source": [
    "clean_data.groupby('brand').mean()"
   ]
  },
  {
   "cell_type": "code",
   "execution_count": null,
   "id": "150267a4",
   "metadata": {},
   "outputs": [],
   "source": [
    "plt.figure(figsize=(15, 16))\n",
    "\n",
    "plt.subplot(1, 2, 1)\n",
    "tmp = clean_data.groupby('brand').mean().sort_values('out_of_stock', ascending=False).reset_index()\n",
    "sns.barplot(data=tmp[:r], y='brand', x='out_of_stock')\n",
    "plt.title('Top 25 most common \"description\" words')\n",
    "\n",
    "plt.subplot(1, 2, 2)\n",
    "tmp = pd.DataFrame(clean_data['title'].str.split().explode().value_counts().sort_values(ascending=False)).reset_index()\n",
    "sns.barplot(data=tmp[:r], y='title', x='count')\n",
    "plt.title('Top 25 most common \"title\" words')\n",
    "\n",
    "plt.show()"
   ]
  }
 ],
 "metadata": {
  "kernelspec": {
   "display_name": "Python 3",
   "language": "python",
   "name": "python3"
  },
  "language_info": {
   "codemirror_mode": {
    "name": "ipython",
    "version": 3
   },
   "file_extension": ".py",
   "mimetype": "text/x-python",
   "name": "python",
   "nbconvert_exporter": "python",
   "pygments_lexer": "ipython3",
   "version": "3.12.2"
  }
 },
 "nbformat": 4,
 "nbformat_minor": 5
}
