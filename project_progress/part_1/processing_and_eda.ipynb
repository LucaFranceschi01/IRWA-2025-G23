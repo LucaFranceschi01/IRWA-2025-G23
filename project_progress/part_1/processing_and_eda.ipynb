{
 "cells": [
  {
   "cell_type": "markdown",
   "id": "84fe4d8d",
   "metadata": {},
   "source": [
    "# Part 1: Text Processing and Exploratory Data Analysis"
   ]
  },
  {
   "cell_type": "markdown",
   "id": "7e0b198f",
   "metadata": {},
   "source": [
    "## 1. Data preparation"
   ]
  },
  {
   "cell_type": "code",
   "execution_count": null,
   "id": "177871bf",
   "metadata": {},
   "outputs": [],
   "source": [
    "# %pip install nltk"
   ]
  },
  {
   "cell_type": "code",
   "execution_count": null,
   "id": "dcb905e6",
   "metadata": {},
   "outputs": [],
   "source": [
    "import os, string\n",
    "import numpy as np\n",
    "import pandas as pd\n",
    "import seaborn as sns\n",
    "import matplotlib.pyplot as plt\n",
    "\n",
    "from unidecode import unidecode\n",
    "from nltk.corpus import stopwords\n",
    "from nltk.stem import PorterStemmer\n",
    "from nltk.tokenize import word_tokenize\n",
    "\n",
    "# nltk.download('punkt')\n",
    "# nltk.download('stopwords')\n",
    "# nltk.download('punkt_tab')"
   ]
  },
  {
   "cell_type": "code",
   "execution_count": null,
   "id": "3a419a15",
   "metadata": {},
   "outputs": [],
   "source": [
    "data_path =  os.path.join(os.getcwd(), '../../data/')\n",
    "doc_path = os.path.join(data_path, 'fashion_products_dataset.json')\n",
    "\n",
    "data = pd.read_json(doc_path)\n",
    "\n",
    "data.head(5)"
   ]
  },
  {
   "cell_type": "markdown",
   "id": "f6cf2534",
   "metadata": {},
   "source": [
    "1. As a first step, you must pre-process the documents. In particular, for the text fields (title,\n",
    "description) you should:\n",
    "\n",
    "- Removing stop words\n",
    "- Tokenization\n",
    "- Removing punctuation marks\n",
    "- Stemming\n",
    "- and... anything else you think it's needed (bonus point)"
   ]
  },
  {
   "cell_type": "code",
   "execution_count": null,
   "id": "f9628e73",
   "metadata": {},
   "outputs": [],
   "source": [
    "stemmer = PorterStemmer()\n",
    "stop_words = set(stopwords.words(\"english\"))\n",
    "translator = str.maketrans('', '', string.punctuation)\n",
    "\n",
    "stemmer = PorterStemmer()\n",
    "stop_words = set(stopwords.words('english'))\n",
    "\n",
    "def preprocess_text(text):\n",
    "    text = text.lower() # Lowercase\n",
    "    text = text.translate(translator) # Remove punctuation\n",
    "    text = unidecode(text) # normalize\n",
    "    tokens = word_tokenize(text) # Tokenization\n",
    "    tokens = [word for word in tokens if word.isalpha() and word not in stop_words] # Remove stopwords and non-alphabetic tokens\n",
    "    stemmed_tokens = [stemmer.stem(word) for word in tokens] # Stemming \n",
    "    stemmed_tokens = [word for word in stemmed_tokens if len(word) > 2] # Remove short tokens\n",
    "    return ' '.join(stemmed_tokens)\n",
    "\n",
    "data['title_clean'] = data['title'].apply(preprocess_text)\n",
    "data['description_clean'] = data['description'].apply(preprocess_text)\n",
    "\n",
    "data[['pid', 'title', 'title_clean', 'description_clean']].head(5)\n",
    "\n",
    "# Replace original columns with cleaned versions\n",
    "data['title'] = data['title_clean']\n",
    "data['description'] = data['description_clean']\n",
    "data.drop(columns=['title_clean', 'description_clean'], inplace=True)"
   ]
  },
  {
   "cell_type": "markdown",
   "id": "11c2e779",
   "metadata": {},
   "source": [
    "2. Take into account that for future queries, the final output must return (when present) the following information for each of the  elected documents: pid, title, description, brand, category, sub_category, product_details, seller, out_of_stock, selling_price, discount, actual_price, average_rating, url"
   ]
  },
  {
   "cell_type": "code",
   "execution_count": null,
   "id": "818b03d7",
   "metadata": {},
   "outputs": [],
   "source": [
    "relevant_columns = [\n",
    "    'pid', 'title', 'description', 'brand', \n",
    "    'category', 'sub_category', 'product_details', \n",
    "    'seller', 'out_of_stock', 'selling_price', \n",
    "    'discount', 'actual_price', 'average_rating', 'url'\n",
    "]\n",
    "\n",
    "available_fields = [f for f in relevant_columns if f in data.columns]\n",
    "clean_data = data[available_fields].copy()\n",
    "clean_data.head(5)"
   ]
  },
  {
   "cell_type": "markdown",
   "id": "6ecee2ad",
   "metadata": {},
   "source": [
    "3. Decide how to handle the fields category, sub_category, brand, product_details, and seller during pre-processing. Should they be merged into a single text field, indexed as separate fields in the inverted index or any other alternative? Justify your choice, considering how their distinctiveness may affect retrieval effectiveness. What are pros and cons of each approach?"
   ]
  },
  {
   "cell_type": "code",
   "execution_count": null,
   "id": "0f819bac",
   "metadata": {},
   "outputs": [],
   "source": [
    "def clean_metadata_field(text):\n",
    "    if not isinstance(text, str):\n",
    "        return \"\"\n",
    "    text = text.lower().translate(translator)\n",
    "    return text.strip()\n",
    "\n",
    "metadata_fields = ['category', 'sub_category', 'product_details']\n",
    "for field in metadata_fields:\n",
    "    clean_data[f'{field}_clean'] = clean_data[field].apply(clean_metadata_field)\n",
    "\n",
    "display(clean_data.head())\n",
    "\n",
    "# Replace original metadata columns with cleaned versions\n",
    "for field in metadata_fields:\n",
    "    clean_data[field] = clean_data[f'{field}_clean']\n",
    "    clean_data.drop(columns=[f'{field}_clean'], inplace=True)\n",
    "\n",
    "display(clean_data.head())"
   ]
  },
  {
   "cell_type": "markdown",
   "id": "faa5c438",
   "metadata": {},
   "source": [
    "4. Consider the fields out_of_stock, selling_price, discount, actual_price, and average_rating. Decide how these should be handled during pre-processing to use in further search. Should they be indexed as textual terms?"
   ]
  },
  {
   "cell_type": "code",
   "execution_count": null,
   "id": "6b065bd6",
   "metadata": {},
   "outputs": [],
   "source": [
    "# Convert data types to numeric\n",
    "clean_data[\"out_of_stock\"] = clean_data[\"out_of_stock\"].astype(int)\n",
    "\n",
    "clean_data[\"selling_price\"] = clean_data[\"selling_price\"].str.replace(',', '', regex=False)\n",
    "clean_data[\"selling_price\"] = clean_data[\"selling_price\"].replace('', np.nan)\n",
    "clean_data[\"selling_price\"] = clean_data[\"selling_price\"].astype(float)\n",
    "\n",
    "clean_data[\"discount\"] = clean_data[\"discount\"].str.replace('%', '', regex=False)\n",
    "clean_data[\"discount\"] = clean_data[\"discount\"].str.replace('off', '', regex=False)\n",
    "clean_data[\"discount\"] = clean_data[\"discount\"].str.replace(' ', '', regex=False)\n",
    "clean_data[\"discount\"] = clean_data[\"discount\"].replace('', np.nan)\n",
    "clean_data[\"discount\"] = clean_data[\"discount\"].astype(float)\n",
    "\n",
    "clean_data[\"actual_price\"] = clean_data[\"actual_price\"].str.replace(',', '', regex=False)\n",
    "clean_data[\"actual_price\"] = clean_data[\"actual_price\"].replace('', np.nan)\n",
    "clean_data[\"actual_price\"] = clean_data[\"actual_price\"].astype(float)\n",
    "\n",
    "clean_data[\"average_rating\"] = clean_data[\"average_rating\"].replace('', np.nan)\n",
    "clean_data[\"average_rating\"] = clean_data[\"average_rating\"].astype(float)\n",
    "\n",
    "\n",
    "clean_data.head(5)\n",
    "\n",
    "num_fields = ['out_of_stock', 'discount', 'selling_price', 'actual_price', 'average_rating']\n",
    "display(clean_data[num_fields].describe())"
   ]
  },
  {
   "cell_type": "markdown",
   "id": "642171d5",
   "metadata": {},
   "source": [
    "## 2. Exploratory Data Analysis"
   ]
  },
  {
   "cell_type": "markdown",
   "id": "15f1924d",
   "metadata": {},
   "source": [
    "When working with data, it is important to have a better understanding of the content and some statistics. Provide an exploratory data analysis to describe the dataset you are working on in this project and explain the decisions made for the analysis. For example, word counting distribution, average sentence length, vocabulary size, ranking of products based on rating, price, discount, top sellers and brands, out_of_stock distribution, word clouds for the most frequent words, and entity recognition. Feel free to do the exploratory analysis and report your findings in the report."
   ]
  },
  {
   "cell_type": "code",
   "execution_count": null,
   "id": "f6e5a057",
   "metadata": {},
   "outputs": [],
   "source": [
    "r = 25\n",
    "\n",
    "plt.figure(figsize=(15, 8))\n",
    "plt.subplot(1, 2, 1)\n",
    "tmp = pd.DataFrame(clean_data['description'].str.split().explode().value_counts().sort_values(ascending=False)).reset_index()\n",
    "sns.barplot(data=tmp[:r], y='description', x='count')\n",
    "plt.title('Top 25 most common \"description\" words')\n",
    "\n",
    "plt.subplot(1, 2, 2)\n",
    "tmp = pd.DataFrame(clean_data['title'].str.split().explode().value_counts().sort_values(ascending=False)).reset_index()\n",
    "sns.barplot(data=tmp[:r], y='title', x='count')\n",
    "plt.title('Top 25 most common \"title\" words')\n",
    "\n",
    "plt.tight_layout()\n",
    "plt.show()"
   ]
  },
  {
   "cell_type": "code",
   "execution_count": null,
   "id": "a7298598",
   "metadata": {},
   "outputs": [],
   "source": [
    "print(f'Average sentence length: {clean_data['description'].apply(lambda x: len(x.split())).mean():.2f} words')"
   ]
  },
  {
   "cell_type": "code",
   "execution_count": null,
   "id": "61688d00",
   "metadata": {},
   "outputs": [],
   "source": [
    "print(f'Vocabulary size is {clean_data['description'].str.split().explode().nunique()} words') # only from description field"
   ]
  },
  {
   "cell_type": "code",
   "execution_count": null,
   "id": "14077df1",
   "metadata": {},
   "outputs": [],
   "source": [
    "# Missing values per column\n",
    "missing = clean_data.isna().sum().sort_values(ascending=False)\n",
    "display(missing.to_frame(\"missing\"))"
   ]
  },
  {
   "cell_type": "code",
   "execution_count": null,
   "id": "e7127fc1",
   "metadata": {},
   "outputs": [],
   "source": [
    "# Different categories\n",
    "cats = clean_data[\"category\"].value_counts()\n",
    "plt.figure()\n",
    "cats.plot(kind=\"bar\")\n",
    "plt.title(\"Categories\")\n",
    "plt.xlabel(\"Category\")\n",
    "plt.ylabel(\"Count\")\n",
    "plt.tight_layout()\n",
    "plt.show()"
   ]
  },
  {
   "cell_type": "markdown",
   "id": "018b14df",
   "metadata": {},
   "source": [
    "#### Numeric columns"
   ]
  },
  {
   "cell_type": "code",
   "execution_count": null,
   "id": "a3e017ed",
   "metadata": {},
   "outputs": [],
   "source": [
    "# Out of stock ratio\n",
    "ratio = (clean_data[\"out_of_stock\"] == 1).mean()\n",
    "print(f'Out of stock ratio: {ratio:.2%}')"
   ]
  },
  {
   "cell_type": "code",
   "execution_count": null,
   "id": "c82581b0",
   "metadata": {},
   "outputs": [],
   "source": [
    "# Distributions of numerical fields\n",
    "num_fields = ['selling_price', 'actual_price', 'discount', 'average_rating']\n",
    "\n",
    "plt.figure(figsize=(15, 15))\n",
    "for i, col in enumerate(num_fields, start=1):\n",
    "    plt.subplot(2, 2, i)\n",
    "    # clean_data[col].dropna().plot(kind='hist', bins=50, edgecolor='black', alpha=0.7)\n",
    "    plt.hist(clean_data[col].dropna(), bins=50, edgecolor='black', alpha=0.7)\n",
    "    plt.title(f'Distribution of {col}')\n",
    "    plt.xlabel(col)\n",
    "    plt.ylabel('Frequency')\n",
    "    plt.tight_layout()\n",
    "plt.show()"
   ]
  },
  {
   "cell_type": "code",
   "execution_count": null,
   "id": "270bbf9a",
   "metadata": {},
   "outputs": [],
   "source": [
    "corr_matrix = clean_data.corr(numeric_only=True)\n",
    "sns.heatmap(corr_matrix, annot=True)\n",
    "plt.title(\"Correlation heatmap\")\n",
    "plt.show()"
   ]
  },
  {
   "cell_type": "code",
   "execution_count": null,
   "id": "150267a4",
   "metadata": {},
   "outputs": [],
   "source": [
    "plt.figure(figsize=(15, 16))\n",
    "\n",
    "tmp = clean_data.groupby('brand').mean(numeric_only=True)\n",
    "\n",
    "plt.subplot(2, 2, 1)\n",
    "sns.barplot(data=tmp.sort_values('out_of_stock', ascending=False).reset_index()[:r], y='brand', x='out_of_stock')\n",
    "plt.title('Most out-of-stock brands')\n",
    "\n",
    "plt.subplot(2, 2, 2)\n",
    "sns.barplot(data=tmp.sort_values('discount', ascending=False).reset_index()[:r], y='brand', x='discount')\n",
    "plt.title('Most discounted brands')\n",
    "\n",
    "plt.subplot(2, 2, 3)\n",
    "sns.barplot(data=tmp.sort_values('actual_price', ascending=False).reset_index()[:r], y='brand', x='actual_price')\n",
    "plt.title('Most actually expensive brands')\n",
    "\n",
    "plt.subplot(2, 2, 4)\n",
    "sns.barplot(data=tmp.sort_values('selling_price', ascending=False).reset_index()[:r], y='brand', x='selling_price')\n",
    "plt.title('Most supposadly expensive brands')\n",
    "\n",
    "plt.tight_layout()\n",
    "plt.show()"
   ]
  }
 ],
 "metadata": {
  "kernelspec": {
   "display_name": "Python 3",
   "language": "python",
   "name": "python3"
  },
  "language_info": {
   "codemirror_mode": {
    "name": "ipython",
    "version": 3
   },
   "file_extension": ".py",
   "mimetype": "text/x-python",
   "name": "python",
   "nbconvert_exporter": "python",
   "pygments_lexer": "ipython3",
   "version": "3.12.2"
  }
 },
 "nbformat": 4,
 "nbformat_minor": 5
}
